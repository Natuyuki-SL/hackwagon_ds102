{
 "cells": [
  {
   "cell_type": "markdown",
   "metadata": {},
   "source": [
    "<center><img src=\"https://i2.wp.com/hackwagon.com/wp-content/uploads/2017/02/Logo-Web-Export.png?ssl=1\" width=200/></center>\n",
    "<h1> Hackwagon Academy DS102 Lesson 2A </h1>\n",
    "<h2> Pandas (Part 2)</h2> \n",
    "<h3> Lesson Outline </h3>\n",
    "\n",
    "- 1. [Recap](#1)\n",
    "    - 1.1 [Series](#1.1)\n",
    "    - 1.2 [DataFrame](#1.2)\n",
    "    - 1.3 [Filtering](#1.3)\n",
    "    - 1.4 [Descriptive Statistics](#1.4)\n",
    "    - [Practice I](#P1)\n",
    "- 2. [Data Cleaning - Transformation](#2)\n",
    "    - 2.1 [Functions Recap](#2.1)\n",
    "    - 2.2 [.apply()](#2.2)\n",
    "    - 2.3 [.replace()](#2.3)\n",
    "    - 2.4 [.map()](#2.3)\n",
    "    - [Practice II](#P2)\n",
    "- 3. [Univariate Analysis](#3)\n",
    "    - 3.1 [Interquartile Range (IQR)](#3.1)\n",
    "    - 3.2 [Outlier Detection](#3.2)\n",
    "    - [Practice III](#P3)\n",
    "- 4. [Data Aggregation](#4)\n",
    "    - 4.1 [GroupBy](#4.1)\n",
    "    - 4.2 [Simple Aggregation](#4.2)\n",
    "    - 4.3 [Advanced Aggregation](#4.3)\n",
    "    - 4.4 [Pokemon Dataset](#4.4)\n",
    "    - [Practice IV](#P4)"
   ]
  },
  {
   "cell_type": "markdown",
   "metadata": {},
   "source": [
    "### Import Libraries"
   ]
  },
  {
   "cell_type": "code",
   "execution_count": 1,
   "metadata": {},
   "outputs": [],
   "source": [
    "import pandas as pd\n",
    "import numpy as np"
   ]
  },
  {
   "cell_type": "markdown",
   "metadata": {},
   "source": [
    "<hr/>\n",
    "\n",
    "<a id='1'><h2><img src=\"https://images.vexels.com/media/users/3/153978/isolated/preview/483ef8b10a46e28d02293a31570c8c56-warning-sign-colored-stroke-icon-by-vexels.png\" width=23 align=\"left\"><font color=\"salmon\">&nbsp;1.</font><font color=\"salmon\"> Recap </font> </h2></a>"
   ]
  },
  {
   "cell_type": "markdown",
   "metadata": {},
   "source": [
    "<a id='1.1'><h3>1.1 DataFrame</h3></a>\n",
    "\n",
    "A two-dimensional, tabular data structure with labeled axes (rows and columns), and is the **primary** pandas data structure. You can think of a `DataFrame` as a spreadsheet in Python.\n",
    "A `DataFrame` is made up of multiple `Series` objects stuck together vertically and horizontally. <br>"
   ]
  },
  {
   "cell_type": "code",
   "execution_count": 2,
   "metadata": {},
   "outputs": [
    {
     "data": {
      "text/html": [
       "<div>\n",
       "<style scoped>\n",
       "    .dataframe tbody tr th:only-of-type {\n",
       "        vertical-align: middle;\n",
       "    }\n",
       "\n",
       "    .dataframe tbody tr th {\n",
       "        vertical-align: top;\n",
       "    }\n",
       "\n",
       "    .dataframe thead th {\n",
       "        text-align: right;\n",
       "    }\n",
       "</style>\n",
       "<table border=\"1\" class=\"dataframe\">\n",
       "  <thead>\n",
       "    <tr style=\"text-align: right;\">\n",
       "      <th></th>\n",
       "      <th>ClassID</th>\n",
       "      <th>ClassType</th>\n",
       "      <th>Co-Instructor</th>\n",
       "      <th>Coordinating_TA</th>\n",
       "      <th>Instructor</th>\n",
       "      <th>Rating</th>\n",
       "      <th>Students</th>\n",
       "    </tr>\n",
       "  </thead>\n",
       "  <tbody>\n",
       "    <tr>\n",
       "      <th>0</th>\n",
       "      <td>1</td>\n",
       "      <td>DS101</td>\n",
       "      <td>False</td>\n",
       "      <td>Dick</td>\n",
       "      <td>Jon</td>\n",
       "      <td>Nil</td>\n",
       "      <td>40</td>\n",
       "    </tr>\n",
       "    <tr>\n",
       "      <th>1</th>\n",
       "      <td>2</td>\n",
       "      <td>DS101</td>\n",
       "      <td>True</td>\n",
       "      <td>Vera</td>\n",
       "      <td>Andre</td>\n",
       "      <td>7</td>\n",
       "      <td>43</td>\n",
       "    </tr>\n",
       "    <tr>\n",
       "      <th>2</th>\n",
       "      <td>3</td>\n",
       "      <td>DS102</td>\n",
       "      <td>False</td>\n",
       "      <td>Vera</td>\n",
       "      <td>Jon</td>\n",
       "      <td>9</td>\n",
       "      <td>41</td>\n",
       "    </tr>\n",
       "    <tr>\n",
       "      <th>3</th>\n",
       "      <td>4</td>\n",
       "      <td>DS102</td>\n",
       "      <td>True</td>\n",
       "      <td>Dick</td>\n",
       "      <td>Andre</td>\n",
       "      <td>Nope</td>\n",
       "      <td>44</td>\n",
       "    </tr>\n",
       "    <tr>\n",
       "      <th>4</th>\n",
       "      <td>5</td>\n",
       "      <td>DS101</td>\n",
       "      <td>True</td>\n",
       "      <td>Dick</td>\n",
       "      <td>Andre</td>\n",
       "      <td>10</td>\n",
       "      <td>45</td>\n",
       "    </tr>\n",
       "  </tbody>\n",
       "</table>\n",
       "</div>"
      ],
      "text/plain": [
       "   ClassID ClassType  Co-Instructor Coordinating_TA Instructor Rating  \\\n",
       "0        1     DS101          False            Dick        Jon    Nil   \n",
       "1        2     DS101           True            Vera      Andre      7   \n",
       "2        3     DS102          False            Vera        Jon      9   \n",
       "3        4     DS102           True            Dick      Andre   Nope   \n",
       "4        5     DS101           True            Dick      Andre     10   \n",
       "\n",
       "   Students  \n",
       "0        40  \n",
       "1        43  \n",
       "2        41  \n",
       "3        44  \n",
       "4        45  "
      ]
     },
     "execution_count": 2,
     "metadata": {},
     "output_type": "execute_result"
    }
   ],
   "source": [
    "feedback_df = pd.read_csv('HWAPandasSandbox.csv')\n",
    "feedback_df.head()"
   ]
  },
  {
   "cell_type": "markdown",
   "metadata": {},
   "source": [
    "<a id='1.1'><h3>1.2 Series</h3></a>\n",
    "\n",
    "A `Series` == Row / Column of a `Dataframe`\n",
    "\n",
    "- Extracting a column from a `Dataframe` is very similar to accessing data in a `dictionary`. "
   ]
  },
  {
   "cell_type": "code",
   "execution_count": 3,
   "metadata": {},
   "outputs": [
    {
     "data": {
      "text/plain": [
       "0      Jon\n",
       "1    Andre\n",
       "2      Jon\n",
       "3    Andre\n",
       "4    Andre\n",
       "Name: Instructor, dtype: object"
      ]
     },
     "execution_count": 3,
     "metadata": {},
     "output_type": "execute_result"
    }
   ],
   "source": [
    "feedback_df['Instructor']"
   ]
  },
  {
   "cell_type": "markdown",
   "metadata": {},
   "source": [
    "### Create New Column with Series \n",
    "\n",
    "We can create new columns to add to a DataFrame.\n",
    "\n",
    "```python\n",
    "    df['new_col_name'] = Series\n",
    "```"
   ]
  },
  {
   "cell_type": "code",
   "execution_count": 4,
   "metadata": {},
   "outputs": [
    {
     "data": {
      "text/html": [
       "<div>\n",
       "<style scoped>\n",
       "    .dataframe tbody tr th:only-of-type {\n",
       "        vertical-align: middle;\n",
       "    }\n",
       "\n",
       "    .dataframe tbody tr th {\n",
       "        vertical-align: top;\n",
       "    }\n",
       "\n",
       "    .dataframe thead th {\n",
       "        text-align: right;\n",
       "    }\n",
       "</style>\n",
       "<table border=\"1\" class=\"dataframe\">\n",
       "  <thead>\n",
       "    <tr style=\"text-align: right;\">\n",
       "      <th></th>\n",
       "      <th>ClassID</th>\n",
       "      <th>ClassType</th>\n",
       "      <th>Co-Instructor</th>\n",
       "      <th>Coordinating_TA</th>\n",
       "      <th>Instructor</th>\n",
       "      <th>Rating</th>\n",
       "      <th>Students</th>\n",
       "      <th>StudentsSquared</th>\n",
       "    </tr>\n",
       "  </thead>\n",
       "  <tbody>\n",
       "    <tr>\n",
       "      <th>0</th>\n",
       "      <td>1</td>\n",
       "      <td>DS101</td>\n",
       "      <td>False</td>\n",
       "      <td>Dick</td>\n",
       "      <td>Jon</td>\n",
       "      <td>Nil</td>\n",
       "      <td>40</td>\n",
       "      <td>1600</td>\n",
       "    </tr>\n",
       "    <tr>\n",
       "      <th>1</th>\n",
       "      <td>2</td>\n",
       "      <td>DS101</td>\n",
       "      <td>True</td>\n",
       "      <td>Vera</td>\n",
       "      <td>Andre</td>\n",
       "      <td>7</td>\n",
       "      <td>43</td>\n",
       "      <td>1849</td>\n",
       "    </tr>\n",
       "    <tr>\n",
       "      <th>2</th>\n",
       "      <td>3</td>\n",
       "      <td>DS102</td>\n",
       "      <td>False</td>\n",
       "      <td>Vera</td>\n",
       "      <td>Jon</td>\n",
       "      <td>9</td>\n",
       "      <td>41</td>\n",
       "      <td>1681</td>\n",
       "    </tr>\n",
       "    <tr>\n",
       "      <th>3</th>\n",
       "      <td>4</td>\n",
       "      <td>DS102</td>\n",
       "      <td>True</td>\n",
       "      <td>Dick</td>\n",
       "      <td>Andre</td>\n",
       "      <td>Nope</td>\n",
       "      <td>44</td>\n",
       "      <td>1936</td>\n",
       "    </tr>\n",
       "    <tr>\n",
       "      <th>4</th>\n",
       "      <td>5</td>\n",
       "      <td>DS101</td>\n",
       "      <td>True</td>\n",
       "      <td>Dick</td>\n",
       "      <td>Andre</td>\n",
       "      <td>10</td>\n",
       "      <td>45</td>\n",
       "      <td>2025</td>\n",
       "    </tr>\n",
       "  </tbody>\n",
       "</table>\n",
       "</div>"
      ],
      "text/plain": [
       "   ClassID ClassType  Co-Instructor Coordinating_TA Instructor Rating  \\\n",
       "0        1     DS101          False            Dick        Jon    Nil   \n",
       "1        2     DS101           True            Vera      Andre      7   \n",
       "2        3     DS102          False            Vera        Jon      9   \n",
       "3        4     DS102           True            Dick      Andre   Nope   \n",
       "4        5     DS101           True            Dick      Andre     10   \n",
       "\n",
       "   Students  StudentsSquared  \n",
       "0        40             1600  \n",
       "1        43             1849  \n",
       "2        41             1681  \n",
       "3        44             1936  \n",
       "4        45             2025  "
      ]
     },
     "execution_count": 4,
     "metadata": {},
     "output_type": "execute_result"
    }
   ],
   "source": [
    "feedback_df['StudentsSquared'] = feedback_df['Students'] ** 2\n",
    "feedback_df.head()"
   ]
  },
  {
   "cell_type": "markdown",
   "metadata": {},
   "source": [
    "<a id='1.3'><h3>1.3 Filtering</h3></a>\n",
    "\n",
    "We can filter for results within a `DataFrame` to get the data we want. \n",
    "\n",
    "We specify the column we want to isolate in the DataFrame, then specify the boolean condition we are looking for. For example, we want to find the `Females` in the `Sex` column. \n",
    "\n",
    "```python\n",
    "df['sex'] == 'Females'\n",
    "\n",
    "# or for multiple conditions, we link them by & (and) or | (or) symbols\n",
    "# where each condition is surrounded by a ()\n",
    "\n",
    "(df['sex'] == 'Females') & (df['type_of_course'] == 'Medicine')\n",
    "\n",
    "```\n",
    "\n",
    "This gives us a Boolean Series of multiple `True` and `False` values. "
   ]
  },
  {
   "cell_type": "code",
   "execution_count": 5,
   "metadata": {},
   "outputs": [
    {
     "data": {
      "text/html": [
       "<div>\n",
       "<style scoped>\n",
       "    .dataframe tbody tr th:only-of-type {\n",
       "        vertical-align: middle;\n",
       "    }\n",
       "\n",
       "    .dataframe tbody tr th {\n",
       "        vertical-align: top;\n",
       "    }\n",
       "\n",
       "    .dataframe thead th {\n",
       "        text-align: right;\n",
       "    }\n",
       "</style>\n",
       "<table border=\"1\" class=\"dataframe\">\n",
       "  <thead>\n",
       "    <tr style=\"text-align: right;\">\n",
       "      <th></th>\n",
       "      <th>ClassID</th>\n",
       "      <th>ClassType</th>\n",
       "      <th>Co-Instructor</th>\n",
       "      <th>Coordinating_TA</th>\n",
       "      <th>Instructor</th>\n",
       "      <th>Rating</th>\n",
       "      <th>Students</th>\n",
       "      <th>StudentsSquared</th>\n",
       "    </tr>\n",
       "  </thead>\n",
       "  <tbody>\n",
       "    <tr>\n",
       "      <th>1</th>\n",
       "      <td>2</td>\n",
       "      <td>DS101</td>\n",
       "      <td>True</td>\n",
       "      <td>Vera</td>\n",
       "      <td>Andre</td>\n",
       "      <td>7</td>\n",
       "      <td>43</td>\n",
       "      <td>1849</td>\n",
       "    </tr>\n",
       "    <tr>\n",
       "      <th>4</th>\n",
       "      <td>5</td>\n",
       "      <td>DS101</td>\n",
       "      <td>True</td>\n",
       "      <td>Dick</td>\n",
       "      <td>Andre</td>\n",
       "      <td>10</td>\n",
       "      <td>45</td>\n",
       "      <td>2025</td>\n",
       "    </tr>\n",
       "  </tbody>\n",
       "</table>\n",
       "</div>"
      ],
      "text/plain": [
       "   ClassID ClassType  Co-Instructor Coordinating_TA Instructor Rating  \\\n",
       "1        2     DS101           True            Vera      Andre      7   \n",
       "4        5     DS101           True            Dick      Andre     10   \n",
       "\n",
       "   Students  StudentsSquared  \n",
       "1        43             1849  \n",
       "4        45             2025  "
      ]
     },
     "execution_count": 5,
     "metadata": {},
     "output_type": "execute_result"
    }
   ],
   "source": [
    "ds101_only = feedback_df['ClassType'] == 'DS101'\n",
    "andre_only = feedback_df['Instructor'] == 'Andre'\n",
    "ds101_andre = feedback_df[ds101_only & andre_only]\n",
    "ds101_andre"
   ]
  },
  {
   "cell_type": "markdown",
   "metadata": {},
   "source": [
    "<a id='1.4'><h3>1.4 Descriptive Statistics</h3></a>\n",
    "\n",
    "`Dataframes` and `Series` objects have many useful methods to help you compute statistics.\n",
    "\n",
    "<table>\n",
    "  <tr>\n",
    "    <th>Statistical measure</th>\n",
    "    <th>Dataframe method</th>\n",
    "    <th>Series method</th>\n",
    "    <th>Description</th>\n",
    "  </tr>\n",
    "  <tr>\n",
    "    <td>Mean</td>\n",
    "    <td>df.mean()</td>\n",
    "    <td>df['column_name'].mean()</td>\n",
    "    <td>Returns the mean of all columns / the selected column</td>\n",
    "  </tr>\n",
    "  <tr>\n",
    "    <td>Median</td>\n",
    "    <td>df.median()</td>\n",
    "    <td>df['column_name'].median()</td>\n",
    "    <td>Returns the median of all columns / the selected column</td>\n",
    "  </tr>\n",
    "  <tr>\n",
    "    <td>Standard Deviation</td>\n",
    "    <td>df.std()</td>\n",
    "    <td>df['column_name'].std()</td>\n",
    "    <td>Returns the standard deviation of all columns / the selected column</td>\n",
    "  </tr>\n",
    "  <tr>\n",
    "    <td>Sum</td>\n",
    "    <td>df.sum()</td>\n",
    "    <td>df['column_name'].sum()</td>\n",
    "    <td>Returns the sum of all columns / the selected column</td>\n",
    "  </tr>\n",
    "  <tr>\n",
    "    <td>...</td>\n",
    "    <td>...</td>\n",
    "    <td>...</td>\n",
    "    <td>...</td>\n",
    "  </tr>\n",
    "</table>"
   ]
  },
  {
   "cell_type": "code",
   "execution_count": 6,
   "metadata": {},
   "outputs": [
    {
     "name": "stdout",
     "output_type": "stream",
     "text": [
      "42.6\n",
      "43.0\n",
      "40\n",
      "45\n",
      "0    40\n",
      "1    41\n",
      "2    43\n",
      "3    44\n",
      "4    45\n",
      "Name: Students, dtype: int64\n"
     ]
    }
   ],
   "source": [
    "print(feedback_df['Students'].mean())\n",
    "print(feedback_df['Students'].median())\n",
    "print(feedback_df['Students'].min())\n",
    "print(feedback_df['Students'].max())\n",
    "print(feedback_df['Students'].mode()) #prints a series since all values have 1 occurence"
   ]
  },
  {
   "cell_type": "markdown",
   "metadata": {},
   "source": [
    "<a id='P1'><h2> <img src=\"https://cdn.shopify.com/s/files/1/1200/7374/products/book_aec28e76-52ec-44ab-bc01-41df1279c89f_550x825.png?v=1473897430\" width=25 align=\"left\"> <font color=\"darkorange\"> &nbsp; Practice I </font><font color=\"skyblue\"> * </font></h2></a>\n",
    "\n",
    "### Wines Dataset\n",
    "\n",
    "Read the `wines-3k.csv` dataset as `wines_df` (don't forget the `sep='|'` parameter) and preview the dataset with `.head()`."
   ]
  },
  {
   "cell_type": "code",
   "execution_count": 7,
   "metadata": {
    "scrolled": true
   },
   "outputs": [
    {
     "data": {
      "text/html": [
       "<div>\n",
       "<style scoped>\n",
       "    .dataframe tbody tr th:only-of-type {\n",
       "        vertical-align: middle;\n",
       "    }\n",
       "\n",
       "    .dataframe tbody tr th {\n",
       "        vertical-align: top;\n",
       "    }\n",
       "\n",
       "    .dataframe thead th {\n",
       "        text-align: right;\n",
       "    }\n",
       "</style>\n",
       "<table border=\"1\" class=\"dataframe\">\n",
       "  <thead>\n",
       "    <tr style=\"text-align: right;\">\n",
       "      <th></th>\n",
       "      <th>country</th>\n",
       "      <th>points</th>\n",
       "      <th>price</th>\n",
       "    </tr>\n",
       "  </thead>\n",
       "  <tbody>\n",
       "    <tr>\n",
       "      <th>0</th>\n",
       "      <td>US</td>\n",
       "      <td>84</td>\n",
       "      <td>12.0</td>\n",
       "    </tr>\n",
       "    <tr>\n",
       "      <th>1</th>\n",
       "      <td>Italy</td>\n",
       "      <td>87</td>\n",
       "      <td>15.0</td>\n",
       "    </tr>\n",
       "    <tr>\n",
       "      <th>2</th>\n",
       "      <td>US</td>\n",
       "      <td>86</td>\n",
       "      <td>48.0</td>\n",
       "    </tr>\n",
       "    <tr>\n",
       "      <th>3</th>\n",
       "      <td>US</td>\n",
       "      <td>89</td>\n",
       "      <td>150.0</td>\n",
       "    </tr>\n",
       "    <tr>\n",
       "      <th>4</th>\n",
       "      <td>Italy</td>\n",
       "      <td>89</td>\n",
       "      <td>59.0</td>\n",
       "    </tr>\n",
       "  </tbody>\n",
       "</table>\n",
       "</div>"
      ],
      "text/plain": [
       "  country  points  price\n",
       "0      US      84   12.0\n",
       "1   Italy      87   15.0\n",
       "2      US      86   48.0\n",
       "3      US      89  150.0\n",
       "4   Italy      89   59.0"
      ]
     },
     "execution_count": 7,
     "metadata": {},
     "output_type": "execute_result"
    }
   ],
   "source": [
    "wines_df = pd.read_csv('wines-3k.csv', sep='|')\n",
    "\n",
    "wines_df.head()"
   ]
  },
  {
   "cell_type": "markdown",
   "metadata": {},
   "source": [
    "### Restructure DataFrame to `country` and `price`\n",
    "\n",
    "**Expected Output:**\n",
    "\n",
    "<img src=\"https://i.imgur.com/ilPXbb4.png\">"
   ]
  },
  {
   "cell_type": "code",
   "execution_count": 8,
   "metadata": {},
   "outputs": [
    {
     "data": {
      "text/html": [
       "<div>\n",
       "<style scoped>\n",
       "    .dataframe tbody tr th:only-of-type {\n",
       "        vertical-align: middle;\n",
       "    }\n",
       "\n",
       "    .dataframe tbody tr th {\n",
       "        vertical-align: top;\n",
       "    }\n",
       "\n",
       "    .dataframe thead th {\n",
       "        text-align: right;\n",
       "    }\n",
       "</style>\n",
       "<table border=\"1\" class=\"dataframe\">\n",
       "  <thead>\n",
       "    <tr style=\"text-align: right;\">\n",
       "      <th></th>\n",
       "      <th>country</th>\n",
       "      <th>price</th>\n",
       "    </tr>\n",
       "  </thead>\n",
       "  <tbody>\n",
       "    <tr>\n",
       "      <th>0</th>\n",
       "      <td>US</td>\n",
       "      <td>12.0</td>\n",
       "    </tr>\n",
       "    <tr>\n",
       "      <th>1</th>\n",
       "      <td>Italy</td>\n",
       "      <td>15.0</td>\n",
       "    </tr>\n",
       "    <tr>\n",
       "      <th>2</th>\n",
       "      <td>US</td>\n",
       "      <td>48.0</td>\n",
       "    </tr>\n",
       "    <tr>\n",
       "      <th>3</th>\n",
       "      <td>US</td>\n",
       "      <td>150.0</td>\n",
       "    </tr>\n",
       "    <tr>\n",
       "      <th>4</th>\n",
       "      <td>Italy</td>\n",
       "      <td>59.0</td>\n",
       "    </tr>\n",
       "    <tr>\n",
       "      <th>...</th>\n",
       "      <td>...</td>\n",
       "      <td>...</td>\n",
       "    </tr>\n",
       "    <tr>\n",
       "      <th>2995</th>\n",
       "      <td>US</td>\n",
       "      <td>38.0</td>\n",
       "    </tr>\n",
       "    <tr>\n",
       "      <th>2996</th>\n",
       "      <td>Italy</td>\n",
       "      <td>16.0</td>\n",
       "    </tr>\n",
       "    <tr>\n",
       "      <th>2997</th>\n",
       "      <td>France</td>\n",
       "      <td>15.0</td>\n",
       "    </tr>\n",
       "    <tr>\n",
       "      <th>2998</th>\n",
       "      <td>Italy</td>\n",
       "      <td>55.0</td>\n",
       "    </tr>\n",
       "    <tr>\n",
       "      <th>2999</th>\n",
       "      <td>Austria</td>\n",
       "      <td>17.0</td>\n",
       "    </tr>\n",
       "  </tbody>\n",
       "</table>\n",
       "<p>3000 rows × 2 columns</p>\n",
       "</div>"
      ],
      "text/plain": [
       "      country  price\n",
       "0          US   12.0\n",
       "1       Italy   15.0\n",
       "2          US   48.0\n",
       "3          US  150.0\n",
       "4       Italy   59.0\n",
       "...       ...    ...\n",
       "2995       US   38.0\n",
       "2996    Italy   16.0\n",
       "2997   France   15.0\n",
       "2998    Italy   55.0\n",
       "2999  Austria   17.0\n",
       "\n",
       "[3000 rows x 2 columns]"
      ]
     },
     "execution_count": 8,
     "metadata": {},
     "output_type": "execute_result"
    }
   ],
   "source": [
    "wines_df = wines_df[['country','price']]\n",
    "wines_df"
   ]
  },
  {
   "cell_type": "markdown",
   "metadata": {},
   "source": [
    "### Filter for `Australia` wines and get their average `price`\n",
    "\n",
    "**Expected Output:**\n",
    "    \n",
    "    33.80232558139535"
   ]
  },
  {
   "cell_type": "code",
   "execution_count": 9,
   "metadata": {},
   "outputs": [
    {
     "data": {
      "text/html": [
       "<div>\n",
       "<style scoped>\n",
       "    .dataframe tbody tr th:only-of-type {\n",
       "        vertical-align: middle;\n",
       "    }\n",
       "\n",
       "    .dataframe tbody tr th {\n",
       "        vertical-align: top;\n",
       "    }\n",
       "\n",
       "    .dataframe thead th {\n",
       "        text-align: right;\n",
       "    }\n",
       "</style>\n",
       "<table border=\"1\" class=\"dataframe\">\n",
       "  <thead>\n",
       "    <tr style=\"text-align: right;\">\n",
       "      <th></th>\n",
       "      <th>country</th>\n",
       "      <th>price</th>\n",
       "    </tr>\n",
       "  </thead>\n",
       "  <tbody>\n",
       "    <tr>\n",
       "      <th>24</th>\n",
       "      <td>Australia</td>\n",
       "      <td>15.0</td>\n",
       "    </tr>\n",
       "    <tr>\n",
       "      <th>52</th>\n",
       "      <td>Australia</td>\n",
       "      <td>NaN</td>\n",
       "    </tr>\n",
       "    <tr>\n",
       "      <th>57</th>\n",
       "      <td>Australia</td>\n",
       "      <td>30.0</td>\n",
       "    </tr>\n",
       "    <tr>\n",
       "      <th>97</th>\n",
       "      <td>Australia</td>\n",
       "      <td>15.0</td>\n",
       "    </tr>\n",
       "    <tr>\n",
       "      <th>152</th>\n",
       "      <td>Australia</td>\n",
       "      <td>17.0</td>\n",
       "    </tr>\n",
       "    <tr>\n",
       "      <th>...</th>\n",
       "      <td>...</td>\n",
       "      <td>...</td>\n",
       "    </tr>\n",
       "    <tr>\n",
       "      <th>2707</th>\n",
       "      <td>Australia</td>\n",
       "      <td>31.0</td>\n",
       "    </tr>\n",
       "    <tr>\n",
       "      <th>2760</th>\n",
       "      <td>Australia</td>\n",
       "      <td>11.0</td>\n",
       "    </tr>\n",
       "    <tr>\n",
       "      <th>2857</th>\n",
       "      <td>Australia</td>\n",
       "      <td>8.0</td>\n",
       "    </tr>\n",
       "    <tr>\n",
       "      <th>2890</th>\n",
       "      <td>Australia</td>\n",
       "      <td>10.0</td>\n",
       "    </tr>\n",
       "    <tr>\n",
       "      <th>2986</th>\n",
       "      <td>Australia</td>\n",
       "      <td>20.0</td>\n",
       "    </tr>\n",
       "  </tbody>\n",
       "</table>\n",
       "<p>88 rows × 2 columns</p>\n",
       "</div>"
      ],
      "text/plain": [
       "        country  price\n",
       "24    Australia   15.0\n",
       "52    Australia    NaN\n",
       "57    Australia   30.0\n",
       "97    Australia   15.0\n",
       "152   Australia   17.0\n",
       "...         ...    ...\n",
       "2707  Australia   31.0\n",
       "2760  Australia   11.0\n",
       "2857  Australia    8.0\n",
       "2890  Australia   10.0\n",
       "2986  Australia   20.0\n",
       "\n",
       "[88 rows x 2 columns]"
      ]
     },
     "metadata": {},
     "output_type": "display_data"
    },
    {
     "data": {
      "text/plain": [
       "33.802"
      ]
     },
     "execution_count": 9,
     "metadata": {},
     "output_type": "execute_result"
    }
   ],
   "source": [
    "australia = (wines_df['country'] == 'Australia')\n",
    "display(wines_df[australia])\n",
    "round(wines_df[australia].price.mean(), 3)"
   ]
  },
  {
   "cell_type": "markdown",
   "metadata": {},
   "source": [
    "### Fill Missing Values With 0 and Sort `price` in Ascending Order\n",
    "\n",
    "**Expected Output:**\n",
    "    \n",
    "<img src=\"https://i.imgur.com/f4pLmni.png\">"
   ]
  },
  {
   "cell_type": "code",
   "execution_count": 10,
   "metadata": {
    "scrolled": true
   },
   "outputs": [
    {
     "data": {
      "text/html": [
       "<div>\n",
       "<style scoped>\n",
       "    .dataframe tbody tr th:only-of-type {\n",
       "        vertical-align: middle;\n",
       "    }\n",
       "\n",
       "    .dataframe tbody tr th {\n",
       "        vertical-align: top;\n",
       "    }\n",
       "\n",
       "    .dataframe thead th {\n",
       "        text-align: right;\n",
       "    }\n",
       "</style>\n",
       "<table border=\"1\" class=\"dataframe\">\n",
       "  <thead>\n",
       "    <tr style=\"text-align: right;\">\n",
       "      <th></th>\n",
       "      <th>country</th>\n",
       "      <th>price</th>\n",
       "    </tr>\n",
       "  </thead>\n",
       "  <tbody>\n",
       "    <tr>\n",
       "      <th>318</th>\n",
       "      <td>France</td>\n",
       "      <td>500.0</td>\n",
       "    </tr>\n",
       "    <tr>\n",
       "      <th>1902</th>\n",
       "      <td>France</td>\n",
       "      <td>450.0</td>\n",
       "    </tr>\n",
       "    <tr>\n",
       "      <th>2053</th>\n",
       "      <td>France</td>\n",
       "      <td>360.0</td>\n",
       "    </tr>\n",
       "    <tr>\n",
       "      <th>1505</th>\n",
       "      <td>US</td>\n",
       "      <td>300.0</td>\n",
       "    </tr>\n",
       "    <tr>\n",
       "      <th>1876</th>\n",
       "      <td>France</td>\n",
       "      <td>288.0</td>\n",
       "    </tr>\n",
       "    <tr>\n",
       "      <th>...</th>\n",
       "      <td>...</td>\n",
       "      <td>...</td>\n",
       "    </tr>\n",
       "    <tr>\n",
       "      <th>1455</th>\n",
       "      <td>Austria</td>\n",
       "      <td>0.0</td>\n",
       "    </tr>\n",
       "    <tr>\n",
       "      <th>1443</th>\n",
       "      <td>France</td>\n",
       "      <td>0.0</td>\n",
       "    </tr>\n",
       "    <tr>\n",
       "      <th>437</th>\n",
       "      <td>France</td>\n",
       "      <td>0.0</td>\n",
       "    </tr>\n",
       "    <tr>\n",
       "      <th>2723</th>\n",
       "      <td>Italy</td>\n",
       "      <td>0.0</td>\n",
       "    </tr>\n",
       "    <tr>\n",
       "      <th>2709</th>\n",
       "      <td>Italy</td>\n",
       "      <td>0.0</td>\n",
       "    </tr>\n",
       "  </tbody>\n",
       "</table>\n",
       "<p>3000 rows × 2 columns</p>\n",
       "</div>"
      ],
      "text/plain": [
       "      country  price\n",
       "318    France  500.0\n",
       "1902   France  450.0\n",
       "2053   France  360.0\n",
       "1505       US  300.0\n",
       "1876   France  288.0\n",
       "...       ...    ...\n",
       "1455  Austria    0.0\n",
       "1443   France    0.0\n",
       "437    France    0.0\n",
       "2723    Italy    0.0\n",
       "2709    Italy    0.0\n",
       "\n",
       "[3000 rows x 2 columns]"
      ]
     },
     "execution_count": 10,
     "metadata": {},
     "output_type": "execute_result"
    }
   ],
   "source": [
    "wines_df.fillna(0, inplace=True)\n",
    "wines_df.sort_values(by='price', ascending=False)"
   ]
  },
  {
   "cell_type": "markdown",
   "metadata": {},
   "source": [
    "<a id='2'><h2><img src=\"https://images.vexels.com/media/users/3/153978/isolated/preview/483ef8b10a46e28d02293a31570c8c56-warning-sign-colored-stroke-icon-by-vexels.png\" width=23 align=\"left\"><font color=\"salmon\">&nbsp;2.</font><font color=\"salmon\"> Data Cleaning - Transformation </font> </h2></a>\n",
    "\n",
    "Pandas allow for quick data preprocessing and cleaning with useful methods such as:\n",
    "\n",
    "1. `.apply()`\n",
    "2. `.replace()`\n",
    "3. `.map()`"
   ]
  },
  {
   "cell_type": "markdown",
   "metadata": {},
   "source": [
    "<a id='2.1'><h3>2.1 Functions Recap</h3></a>\n",
    "\n",
    "<img src='https://i.imgur.com/jhpovl8.png' width=\"350\">"
   ]
  },
  {
   "cell_type": "code",
   "execution_count": 11,
   "metadata": {},
   "outputs": [],
   "source": [
    "def give_first_item(a_list):\n",
    "    return a_list[0]"
   ]
  },
  {
   "cell_type": "code",
   "execution_count": 12,
   "metadata": {},
   "outputs": [
    {
     "name": "stdout",
     "output_type": "stream",
     "text": [
      "10\n",
      "100\n"
     ]
    }
   ],
   "source": [
    "print(give_first_item([10,20,30,40]))\n",
    "print(give_first_item([100,200,300]))"
   ]
  },
  {
   "cell_type": "markdown",
   "metadata": {},
   "source": [
    "### The Lambda \n",
    "\n",
    "The `lambda` reserved keyword is a short form way of making a function.\n",
    "\n",
    "<img src=\"https://i.imgur.com/u7F81LJ.png\" width='200'>"
   ]
  },
  {
   "cell_type": "code",
   "execution_count": 13,
   "metadata": {},
   "outputs": [
    {
     "data": {
      "text/plain": [
       "10"
      ]
     },
     "execution_count": 13,
     "metadata": {},
     "output_type": "execute_result"
    }
   ],
   "source": [
    "#(lambda x: x[0])([10,20,30,40])  this is the fast method\n",
    "myfunction = lambda x:x[0]\n",
    "myfunction([10,20,30,40])\n"
   ]
  },
  {
   "cell_type": "markdown",
   "metadata": {},
   "source": [
    "### Hackwagon Pandas Sandbox \n",
    "\n",
    "Open the pandas sandbox dataset"
   ]
  },
  {
   "cell_type": "code",
   "execution_count": 14,
   "metadata": {},
   "outputs": [
    {
     "data": {
      "text/html": [
       "<div>\n",
       "<style scoped>\n",
       "    .dataframe tbody tr th:only-of-type {\n",
       "        vertical-align: middle;\n",
       "    }\n",
       "\n",
       "    .dataframe tbody tr th {\n",
       "        vertical-align: top;\n",
       "    }\n",
       "\n",
       "    .dataframe thead th {\n",
       "        text-align: right;\n",
       "    }\n",
       "</style>\n",
       "<table border=\"1\" class=\"dataframe\">\n",
       "  <thead>\n",
       "    <tr style=\"text-align: right;\">\n",
       "      <th></th>\n",
       "      <th>ClassID</th>\n",
       "      <th>ClassType</th>\n",
       "      <th>Co-Instructor</th>\n",
       "      <th>Coordinating_TA</th>\n",
       "      <th>Instructor</th>\n",
       "      <th>Rating</th>\n",
       "      <th>Students</th>\n",
       "    </tr>\n",
       "  </thead>\n",
       "  <tbody>\n",
       "    <tr>\n",
       "      <th>0</th>\n",
       "      <td>1</td>\n",
       "      <td>DS101</td>\n",
       "      <td>False</td>\n",
       "      <td>Dick</td>\n",
       "      <td>Jon</td>\n",
       "      <td>Nil</td>\n",
       "      <td>40</td>\n",
       "    </tr>\n",
       "    <tr>\n",
       "      <th>1</th>\n",
       "      <td>2</td>\n",
       "      <td>DS101</td>\n",
       "      <td>True</td>\n",
       "      <td>Vera</td>\n",
       "      <td>Andre</td>\n",
       "      <td>7</td>\n",
       "      <td>43</td>\n",
       "    </tr>\n",
       "    <tr>\n",
       "      <th>2</th>\n",
       "      <td>3</td>\n",
       "      <td>DS102</td>\n",
       "      <td>False</td>\n",
       "      <td>Vera</td>\n",
       "      <td>Jon</td>\n",
       "      <td>9</td>\n",
       "      <td>41</td>\n",
       "    </tr>\n",
       "    <tr>\n",
       "      <th>3</th>\n",
       "      <td>4</td>\n",
       "      <td>DS102</td>\n",
       "      <td>True</td>\n",
       "      <td>Dick</td>\n",
       "      <td>Andre</td>\n",
       "      <td>Nope</td>\n",
       "      <td>44</td>\n",
       "    </tr>\n",
       "    <tr>\n",
       "      <th>4</th>\n",
       "      <td>5</td>\n",
       "      <td>DS101</td>\n",
       "      <td>True</td>\n",
       "      <td>Dick</td>\n",
       "      <td>Andre</td>\n",
       "      <td>10</td>\n",
       "      <td>45</td>\n",
       "    </tr>\n",
       "  </tbody>\n",
       "</table>\n",
       "</div>"
      ],
      "text/plain": [
       "   ClassID ClassType  Co-Instructor Coordinating_TA Instructor Rating  \\\n",
       "0        1     DS101          False            Dick        Jon    Nil   \n",
       "1        2     DS101           True            Vera      Andre      7   \n",
       "2        3     DS102          False            Vera        Jon      9   \n",
       "3        4     DS102           True            Dick      Andre   Nope   \n",
       "4        5     DS101           True            Dick      Andre     10   \n",
       "\n",
       "   Students  \n",
       "0        40  \n",
       "1        43  \n",
       "2        41  \n",
       "3        44  \n",
       "4        45  "
      ]
     },
     "execution_count": 14,
     "metadata": {},
     "output_type": "execute_result"
    }
   ],
   "source": [
    "feedback_df = pd.read_csv('HWAPandasSandbox.csv')\n",
    "feedback_df.head()"
   ]
  },
  {
   "cell_type": "markdown",
   "metadata": {},
   "source": [
    "<a id='2.2'><h3>2.2  <code>.apply()</code></h3></a>\n",
    "\n",
    "The `.apply()` function is very useful for data cleaning a variable in a dataset. \n",
    "\n",
    "<img src=\"https://i.imgur.com/99M6Vl7.png\" width=\"400\">\n",
    "<img src=\"https://i.imgur.com/4e6B9RM.png\" width=\"500\">\n",
    "\n",
    "Even after applying the method, <b>it does not change the column of df permanently.</b> The method returns a new Series object, where you can store it as another variable."
   ]
  },
  {
   "cell_type": "code",
   "execution_count": 15,
   "metadata": {},
   "outputs": [
    {
     "data": {
      "text/html": [
       "<div>\n",
       "<style scoped>\n",
       "    .dataframe tbody tr th:only-of-type {\n",
       "        vertical-align: middle;\n",
       "    }\n",
       "\n",
       "    .dataframe tbody tr th {\n",
       "        vertical-align: top;\n",
       "    }\n",
       "\n",
       "    .dataframe thead th {\n",
       "        text-align: right;\n",
       "    }\n",
       "</style>\n",
       "<table border=\"1\" class=\"dataframe\">\n",
       "  <thead>\n",
       "    <tr style=\"text-align: right;\">\n",
       "      <th></th>\n",
       "      <th>ClassID</th>\n",
       "      <th>ClassType</th>\n",
       "      <th>Co-Instructor</th>\n",
       "      <th>Coordinating_TA</th>\n",
       "      <th>Instructor</th>\n",
       "      <th>Rating</th>\n",
       "      <th>Students</th>\n",
       "    </tr>\n",
       "  </thead>\n",
       "  <tbody>\n",
       "    <tr>\n",
       "      <th>0</th>\n",
       "      <td>1</td>\n",
       "      <td>DS101</td>\n",
       "      <td>False</td>\n",
       "      <td>Dick</td>\n",
       "      <td>Jon</td>\n",
       "      <td>Nil</td>\n",
       "      <td>41</td>\n",
       "    </tr>\n",
       "    <tr>\n",
       "      <th>1</th>\n",
       "      <td>2</td>\n",
       "      <td>DS101</td>\n",
       "      <td>True</td>\n",
       "      <td>Vera</td>\n",
       "      <td>Andre</td>\n",
       "      <td>7</td>\n",
       "      <td>44</td>\n",
       "    </tr>\n",
       "    <tr>\n",
       "      <th>2</th>\n",
       "      <td>3</td>\n",
       "      <td>DS102</td>\n",
       "      <td>False</td>\n",
       "      <td>Vera</td>\n",
       "      <td>Jon</td>\n",
       "      <td>9</td>\n",
       "      <td>42</td>\n",
       "    </tr>\n",
       "    <tr>\n",
       "      <th>3</th>\n",
       "      <td>4</td>\n",
       "      <td>DS102</td>\n",
       "      <td>True</td>\n",
       "      <td>Dick</td>\n",
       "      <td>Andre</td>\n",
       "      <td>Nope</td>\n",
       "      <td>45</td>\n",
       "    </tr>\n",
       "    <tr>\n",
       "      <th>4</th>\n",
       "      <td>5</td>\n",
       "      <td>DS101</td>\n",
       "      <td>True</td>\n",
       "      <td>Dick</td>\n",
       "      <td>Andre</td>\n",
       "      <td>10</td>\n",
       "      <td>46</td>\n",
       "    </tr>\n",
       "  </tbody>\n",
       "</table>\n",
       "</div>"
      ],
      "text/plain": [
       "   ClassID ClassType  Co-Instructor Coordinating_TA Instructor Rating  \\\n",
       "0        1     DS101          False            Dick        Jon    Nil   \n",
       "1        2     DS101           True            Vera      Andre      7   \n",
       "2        3     DS102          False            Vera        Jon      9   \n",
       "3        4     DS102           True            Dick      Andre   Nope   \n",
       "4        5     DS101           True            Dick      Andre     10   \n",
       "\n",
       "   Students  \n",
       "0        41  \n",
       "1        44  \n",
       "2        42  \n",
       "3        45  \n",
       "4        46  "
      ]
     },
     "execution_count": 15,
     "metadata": {},
     "output_type": "execute_result"
    }
   ],
   "source": [
    "increased_students = feedback_df['Students'].apply(lambda x:x+1 )  # change the count by 1\n",
    "feedback_df['Students'] = increased_students\n",
    "feedback_df.head()"
   ]
  },
  {
   "cell_type": "markdown",
   "metadata": {},
   "source": [
    "<a id='2.3'><h3>2.3  <code>.replace()</code></h3></a>\n",
    "\n",
    "The `.replace()` method works similarly to `.apply()` but just that its parameter takes in a <b>single value or a list</b> and it requires a second argument, a value to be replaced with.\n",
    "\n",
    "### Investigate Unique\n",
    "\n",
    "To effectively use replace properly, we need to first investigate if the number of unique values within a variable. We can do that by using `.unique()`. "
   ]
  },
  {
   "cell_type": "code",
   "execution_count": 16,
   "metadata": {},
   "outputs": [
    {
     "name": "stdout",
     "output_type": "stream",
     "text": [
      "['Nil' '7' '9' 'Nope' '10']\n"
     ]
    },
    {
     "data": {
      "text/plain": [
       "5"
      ]
     },
     "execution_count": 16,
     "metadata": {},
     "output_type": "execute_result"
    }
   ],
   "source": [
    "print(feedback_df['Rating'].unique())\n",
    "feedback_df['Rating'].nunique()"
   ]
  },
  {
   "cell_type": "markdown",
   "metadata": {},
   "source": [
    "### Use `.replace()`\n",
    "<img src=\"https://i.imgur.com/lW14HGv.png\" width=\"400\">\n",
    "<img src=\"https://i.imgur.com/0Xl0YQ9.png\" width=\"500\">\n",
    "\n",
    "Similar to the `.apply()` method, even after applying the method, <b>it does not change the column of df permanently.</b> The method returns a new Series object. Therefore it needs to be stored back to the same column or a new column in the DataFrame."
   ]
  },
  {
   "cell_type": "code",
   "execution_count": 17,
   "metadata": {},
   "outputs": [
    {
     "data": {
      "text/html": [
       "<div>\n",
       "<style scoped>\n",
       "    .dataframe tbody tr th:only-of-type {\n",
       "        vertical-align: middle;\n",
       "    }\n",
       "\n",
       "    .dataframe tbody tr th {\n",
       "        vertical-align: top;\n",
       "    }\n",
       "\n",
       "    .dataframe thead th {\n",
       "        text-align: right;\n",
       "    }\n",
       "</style>\n",
       "<table border=\"1\" class=\"dataframe\">\n",
       "  <thead>\n",
       "    <tr style=\"text-align: right;\">\n",
       "      <th></th>\n",
       "      <th>ClassID</th>\n",
       "      <th>ClassType</th>\n",
       "      <th>Co-Instructor</th>\n",
       "      <th>Coordinating_TA</th>\n",
       "      <th>Instructor</th>\n",
       "      <th>Rating</th>\n",
       "      <th>Students</th>\n",
       "    </tr>\n",
       "  </thead>\n",
       "  <tbody>\n",
       "    <tr>\n",
       "      <th>0</th>\n",
       "      <td>1</td>\n",
       "      <td>DS101</td>\n",
       "      <td>False</td>\n",
       "      <td>Dick</td>\n",
       "      <td>Jon</td>\n",
       "      <td>0</td>\n",
       "      <td>41</td>\n",
       "    </tr>\n",
       "    <tr>\n",
       "      <th>1</th>\n",
       "      <td>2</td>\n",
       "      <td>DS101</td>\n",
       "      <td>True</td>\n",
       "      <td>Vera</td>\n",
       "      <td>Andre</td>\n",
       "      <td>7</td>\n",
       "      <td>44</td>\n",
       "    </tr>\n",
       "    <tr>\n",
       "      <th>2</th>\n",
       "      <td>3</td>\n",
       "      <td>DS102</td>\n",
       "      <td>False</td>\n",
       "      <td>Vera</td>\n",
       "      <td>Jon</td>\n",
       "      <td>9</td>\n",
       "      <td>42</td>\n",
       "    </tr>\n",
       "    <tr>\n",
       "      <th>3</th>\n",
       "      <td>4</td>\n",
       "      <td>DS102</td>\n",
       "      <td>True</td>\n",
       "      <td>Dick</td>\n",
       "      <td>Andre</td>\n",
       "      <td>0</td>\n",
       "      <td>45</td>\n",
       "    </tr>\n",
       "    <tr>\n",
       "      <th>4</th>\n",
       "      <td>5</td>\n",
       "      <td>DS101</td>\n",
       "      <td>True</td>\n",
       "      <td>Dick</td>\n",
       "      <td>Andre</td>\n",
       "      <td>10</td>\n",
       "      <td>46</td>\n",
       "    </tr>\n",
       "  </tbody>\n",
       "</table>\n",
       "</div>"
      ],
      "text/plain": [
       "   ClassID ClassType  Co-Instructor Coordinating_TA Instructor Rating  \\\n",
       "0        1     DS101          False            Dick        Jon      0   \n",
       "1        2     DS101           True            Vera      Andre      7   \n",
       "2        3     DS102          False            Vera        Jon      9   \n",
       "3        4     DS102           True            Dick      Andre      0   \n",
       "4        5     DS101           True            Dick      Andre     10   \n",
       "\n",
       "   Students  \n",
       "0        41  \n",
       "1        44  \n",
       "2        42  \n",
       "3        45  \n",
       "4        46  "
      ]
     },
     "execution_count": 17,
     "metadata": {},
     "output_type": "execute_result"
    }
   ],
   "source": [
    "replaced = feedback_df['Rating'].replace(['Nil','Nope'], 0)  # We will replace the values with 0\n",
    "feedback_df['Rating'] = replaced\n",
    "feedback_df.head()"
   ]
  },
  {
   "cell_type": "markdown",
   "metadata": {},
   "source": [
    "<a id='2.4'><h3>2.4  <code>.map()</code></h3></a>\n",
    "\n",
    "Sometimes there are too many unique values to change/replace, this is where the `.map()` method becomes effective. To use it effectively, we need to get a dictionary mapping of the \n",
    "\n",
    "### Investigate Unique\n",
    "\n",
    "To effectively use replace properly, we need to first investigate if the number of unique values within a variable. We can do that by using `.unique()`."
   ]
  },
  {
   "cell_type": "code",
   "execution_count": 18,
   "metadata": {},
   "outputs": [
    {
     "data": {
      "text/plain": [
       "array(['DS101', 'DS102'], dtype=object)"
      ]
     },
     "execution_count": 18,
     "metadata": {},
     "output_type": "execute_result"
    }
   ],
   "source": [
    "feedback_df['ClassType'].unique()"
   ]
  },
  {
   "cell_type": "markdown",
   "metadata": {},
   "source": [
    "### Use `.map()`\n",
    "<img src=\"https://i.imgur.com/01y9Z11.png\" width=\"400\">\n",
    "<img src=\"https://i.imgur.com/WXVfjDE.png\" width=\"500\">\n",
    "\n",
    "Similar to the `.apply()` method, even after applying the method, <b>it does not change the column of df permanently.</b> The method returns a new Series object. Therefore it needs to be stored back to the same column or a new column in the DataFrame."
   ]
  },
  {
   "cell_type": "code",
   "execution_count": 19,
   "metadata": {},
   "outputs": [
    {
     "data": {
      "text/html": [
       "<div>\n",
       "<style scoped>\n",
       "    .dataframe tbody tr th:only-of-type {\n",
       "        vertical-align: middle;\n",
       "    }\n",
       "\n",
       "    .dataframe tbody tr th {\n",
       "        vertical-align: top;\n",
       "    }\n",
       "\n",
       "    .dataframe thead th {\n",
       "        text-align: right;\n",
       "    }\n",
       "</style>\n",
       "<table border=\"1\" class=\"dataframe\">\n",
       "  <thead>\n",
       "    <tr style=\"text-align: right;\">\n",
       "      <th></th>\n",
       "      <th>ClassID</th>\n",
       "      <th>ClassType</th>\n",
       "      <th>Co-Instructor</th>\n",
       "      <th>Coordinating_TA</th>\n",
       "      <th>Instructor</th>\n",
       "      <th>Rating</th>\n",
       "      <th>Students</th>\n",
       "    </tr>\n",
       "  </thead>\n",
       "  <tbody>\n",
       "    <tr>\n",
       "      <th>0</th>\n",
       "      <td>1</td>\n",
       "      <td>0</td>\n",
       "      <td>False</td>\n",
       "      <td>Dick</td>\n",
       "      <td>Jon</td>\n",
       "      <td>0</td>\n",
       "      <td>41</td>\n",
       "    </tr>\n",
       "    <tr>\n",
       "      <th>1</th>\n",
       "      <td>2</td>\n",
       "      <td>0</td>\n",
       "      <td>True</td>\n",
       "      <td>Vera</td>\n",
       "      <td>Andre</td>\n",
       "      <td>7</td>\n",
       "      <td>44</td>\n",
       "    </tr>\n",
       "    <tr>\n",
       "      <th>2</th>\n",
       "      <td>3</td>\n",
       "      <td>1</td>\n",
       "      <td>False</td>\n",
       "      <td>Vera</td>\n",
       "      <td>Jon</td>\n",
       "      <td>9</td>\n",
       "      <td>42</td>\n",
       "    </tr>\n",
       "    <tr>\n",
       "      <th>3</th>\n",
       "      <td>4</td>\n",
       "      <td>1</td>\n",
       "      <td>True</td>\n",
       "      <td>Dick</td>\n",
       "      <td>Andre</td>\n",
       "      <td>0</td>\n",
       "      <td>45</td>\n",
       "    </tr>\n",
       "    <tr>\n",
       "      <th>4</th>\n",
       "      <td>5</td>\n",
       "      <td>0</td>\n",
       "      <td>True</td>\n",
       "      <td>Dick</td>\n",
       "      <td>Andre</td>\n",
       "      <td>10</td>\n",
       "      <td>46</td>\n",
       "    </tr>\n",
       "  </tbody>\n",
       "</table>\n",
       "</div>"
      ],
      "text/plain": [
       "   ClassID  ClassType  Co-Instructor Coordinating_TA Instructor Rating  \\\n",
       "0        1          0          False            Dick        Jon      0   \n",
       "1        2          0           True            Vera      Andre      7   \n",
       "2        3          1          False            Vera        Jon      9   \n",
       "3        4          1           True            Dick      Andre      0   \n",
       "4        5          0           True            Dick      Andre     10   \n",
       "\n",
       "   Students  \n",
       "0        41  \n",
       "1        44  \n",
       "2        42  \n",
       "3        45  \n",
       "4        46  "
      ]
     },
     "execution_count": 19,
     "metadata": {},
     "output_type": "execute_result"
    }
   ],
   "source": [
    "replaced = feedback_df['ClassType'].map({'DS101': 0,'DS102': 1})   # Change to numerical values 0 and 1\n",
    "feedback_df['ClassType'] = replaced\n",
    "feedback_df.head()"
   ]
  },
  {
   "cell_type": "markdown",
   "metadata": {},
   "source": [
    "<a id='P2'><h2> <img src=\"https://cdn.shopify.com/s/files/1/1200/7374/products/book_aec28e76-52ec-44ab-bc01-41df1279c89f_550x825.png?v=1473897430\" width=25 align=\"left\"> <font color=\"darkorange\"> &nbsp; Practice II </font><font color=\"skyblue\"> * </font></h2></a>\n",
    "\n",
    "### Pokemon Dataset\n",
    "\n",
    "Read the `pokemon.csv` as a DataFrame called `pokemon_df`."
   ]
  },
  {
   "cell_type": "code",
   "execution_count": 20,
   "metadata": {},
   "outputs": [
    {
     "data": {
      "text/html": [
       "<div>\n",
       "<style scoped>\n",
       "    .dataframe tbody tr th:only-of-type {\n",
       "        vertical-align: middle;\n",
       "    }\n",
       "\n",
       "    .dataframe tbody tr th {\n",
       "        vertical-align: top;\n",
       "    }\n",
       "\n",
       "    .dataframe thead th {\n",
       "        text-align: right;\n",
       "    }\n",
       "</style>\n",
       "<table border=\"1\" class=\"dataframe\">\n",
       "  <thead>\n",
       "    <tr style=\"text-align: right;\">\n",
       "      <th></th>\n",
       "      <th>Pokemon_ID</th>\n",
       "      <th>Name</th>\n",
       "      <th>Type</th>\n",
       "      <th>HP</th>\n",
       "      <th>Attack</th>\n",
       "      <th>Defense</th>\n",
       "      <th>Speed</th>\n",
       "      <th>Legendary</th>\n",
       "    </tr>\n",
       "  </thead>\n",
       "  <tbody>\n",
       "    <tr>\n",
       "      <th>0</th>\n",
       "      <td>1</td>\n",
       "      <td>Bulbasaur</td>\n",
       "      <td>Grass</td>\n",
       "      <td>45</td>\n",
       "      <td>49</td>\n",
       "      <td>49</td>\n",
       "      <td>45</td>\n",
       "      <td>False</td>\n",
       "    </tr>\n",
       "    <tr>\n",
       "      <th>1</th>\n",
       "      <td>2</td>\n",
       "      <td>Ivysaur</td>\n",
       "      <td>Grass</td>\n",
       "      <td>60</td>\n",
       "      <td>62</td>\n",
       "      <td>63</td>\n",
       "      <td>60</td>\n",
       "      <td>False</td>\n",
       "    </tr>\n",
       "    <tr>\n",
       "      <th>2</th>\n",
       "      <td>3</td>\n",
       "      <td>Venusaur</td>\n",
       "      <td>Grass</td>\n",
       "      <td>80</td>\n",
       "      <td>82</td>\n",
       "      <td>83</td>\n",
       "      <td>80</td>\n",
       "      <td>False</td>\n",
       "    </tr>\n",
       "    <tr>\n",
       "      <th>3</th>\n",
       "      <td>3</td>\n",
       "      <td>VenusaurMega Venusaur</td>\n",
       "      <td>Grass</td>\n",
       "      <td>80</td>\n",
       "      <td>100</td>\n",
       "      <td>123</td>\n",
       "      <td>80</td>\n",
       "      <td>False</td>\n",
       "    </tr>\n",
       "    <tr>\n",
       "      <th>4</th>\n",
       "      <td>4</td>\n",
       "      <td>Charmander</td>\n",
       "      <td>Fire</td>\n",
       "      <td>39</td>\n",
       "      <td>52</td>\n",
       "      <td>43</td>\n",
       "      <td>65</td>\n",
       "      <td>False</td>\n",
       "    </tr>\n",
       "  </tbody>\n",
       "</table>\n",
       "</div>"
      ],
      "text/plain": [
       "   Pokemon_ID                   Name   Type  HP  Attack  Defense  Speed  \\\n",
       "0           1              Bulbasaur  Grass  45      49       49     45   \n",
       "1           2                Ivysaur  Grass  60      62       63     60   \n",
       "2           3               Venusaur  Grass  80      82       83     80   \n",
       "3           3  VenusaurMega Venusaur  Grass  80     100      123     80   \n",
       "4           4             Charmander   Fire  39      52       43     65   \n",
       "\n",
       "   Legendary  \n",
       "0      False  \n",
       "1      False  \n",
       "2      False  \n",
       "3      False  \n",
       "4      False  "
      ]
     },
     "execution_count": 20,
     "metadata": {},
     "output_type": "execute_result"
    }
   ],
   "source": [
    "pokemon_df = pd.read_csv('pokemon.csv')\n",
    "pokemon_df.head()"
   ]
  },
  {
   "cell_type": "markdown",
   "metadata": {},
   "source": [
    "### Calculate Min Max\n",
    "\n",
    "Create 2 variables that has the maxmimum and minimum value of the `Speed` column, naming them `max_speed` and `min_speed`.\n",
    "\n",
    "**Expected Output:**\n",
    "``` python   \n",
    "    180 # max speed\n",
    "    5 # min speed\n",
    "```"
   ]
  },
  {
   "cell_type": "code",
   "execution_count": 21,
   "metadata": {},
   "outputs": [
    {
     "name": "stdout",
     "output_type": "stream",
     "text": [
      "180\n",
      "5\n"
     ]
    }
   ],
   "source": [
    "max_speed = pokemon_df['Speed'].max()\n",
    "min_speed = pokemon_df['Speed'].min()\n",
    "print(max_speed)\n",
    "print(min_speed)"
   ]
  },
  {
   "cell_type": "markdown",
   "metadata": {},
   "source": [
    "### Create Normalise Function\n",
    "\n",
    "Using the two variables created above, prepare a function called `calculate_normalised_speed()` that has a parameter `speed`. Inside the function, it should return the result of the following formula:\n",
    "\n",
    "$$\n",
    "\\text{Normalised Speed}_x = \\frac{Speed_x - Speed_{min}}{Speed_{max} - Speed_{min}}\n",
    "$$\n",
    "\n",
    "_You can use `lambda` or `def`_"
   ]
  },
  {
   "cell_type": "code",
   "execution_count": 22,
   "metadata": {},
   "outputs": [],
   "source": [
    "calculate_normalised_speed = lambda speed: (speed - min_speed) / (max_speed - min_speed)"
   ]
  },
  {
   "cell_type": "markdown",
   "metadata": {},
   "source": [
    "### Using `.apply()`, Create New Column\n",
    "\n",
    "Using the `.apply()` method on the `Speed` column, create a new column called `Normalised_Speed` to the `df`. <b>Make sure you store it back to the `pokemon_df`</b>"
   ]
  },
  {
   "cell_type": "code",
   "execution_count": 23,
   "metadata": {},
   "outputs": [],
   "source": [
    "pokemon_df['Normalised_Speed'] = pokemon_df['Speed'].apply(calculate_normalised_speed)"
   ]
  },
  {
   "cell_type": "markdown",
   "metadata": {},
   "source": [
    "### Use `.head()` to preview newly altered df\n",
    "\n",
    "<b>Expected Output:</b>\n",
    "    \n",
    "<img src=\"https://i.imgur.com/BFIq4Hz.png\">"
   ]
  },
  {
   "cell_type": "code",
   "execution_count": 24,
   "metadata": {},
   "outputs": [
    {
     "data": {
      "text/html": [
       "<div>\n",
       "<style scoped>\n",
       "    .dataframe tbody tr th:only-of-type {\n",
       "        vertical-align: middle;\n",
       "    }\n",
       "\n",
       "    .dataframe tbody tr th {\n",
       "        vertical-align: top;\n",
       "    }\n",
       "\n",
       "    .dataframe thead th {\n",
       "        text-align: right;\n",
       "    }\n",
       "</style>\n",
       "<table border=\"1\" class=\"dataframe\">\n",
       "  <thead>\n",
       "    <tr style=\"text-align: right;\">\n",
       "      <th></th>\n",
       "      <th>Pokemon_ID</th>\n",
       "      <th>Name</th>\n",
       "      <th>Type</th>\n",
       "      <th>HP</th>\n",
       "      <th>Attack</th>\n",
       "      <th>Defense</th>\n",
       "      <th>Speed</th>\n",
       "      <th>Legendary</th>\n",
       "      <th>Normalised_Speed</th>\n",
       "    </tr>\n",
       "  </thead>\n",
       "  <tbody>\n",
       "    <tr>\n",
       "      <th>0</th>\n",
       "      <td>1</td>\n",
       "      <td>Bulbasaur</td>\n",
       "      <td>Grass</td>\n",
       "      <td>45</td>\n",
       "      <td>49</td>\n",
       "      <td>49</td>\n",
       "      <td>45</td>\n",
       "      <td>False</td>\n",
       "      <td>0.228571</td>\n",
       "    </tr>\n",
       "    <tr>\n",
       "      <th>1</th>\n",
       "      <td>2</td>\n",
       "      <td>Ivysaur</td>\n",
       "      <td>Grass</td>\n",
       "      <td>60</td>\n",
       "      <td>62</td>\n",
       "      <td>63</td>\n",
       "      <td>60</td>\n",
       "      <td>False</td>\n",
       "      <td>0.314286</td>\n",
       "    </tr>\n",
       "    <tr>\n",
       "      <th>2</th>\n",
       "      <td>3</td>\n",
       "      <td>Venusaur</td>\n",
       "      <td>Grass</td>\n",
       "      <td>80</td>\n",
       "      <td>82</td>\n",
       "      <td>83</td>\n",
       "      <td>80</td>\n",
       "      <td>False</td>\n",
       "      <td>0.428571</td>\n",
       "    </tr>\n",
       "    <tr>\n",
       "      <th>3</th>\n",
       "      <td>3</td>\n",
       "      <td>VenusaurMega Venusaur</td>\n",
       "      <td>Grass</td>\n",
       "      <td>80</td>\n",
       "      <td>100</td>\n",
       "      <td>123</td>\n",
       "      <td>80</td>\n",
       "      <td>False</td>\n",
       "      <td>0.428571</td>\n",
       "    </tr>\n",
       "    <tr>\n",
       "      <th>4</th>\n",
       "      <td>4</td>\n",
       "      <td>Charmander</td>\n",
       "      <td>Fire</td>\n",
       "      <td>39</td>\n",
       "      <td>52</td>\n",
       "      <td>43</td>\n",
       "      <td>65</td>\n",
       "      <td>False</td>\n",
       "      <td>0.342857</td>\n",
       "    </tr>\n",
       "  </tbody>\n",
       "</table>\n",
       "</div>"
      ],
      "text/plain": [
       "   Pokemon_ID                   Name   Type  HP  Attack  Defense  Speed  \\\n",
       "0           1              Bulbasaur  Grass  45      49       49     45   \n",
       "1           2                Ivysaur  Grass  60      62       63     60   \n",
       "2           3               Venusaur  Grass  80      82       83     80   \n",
       "3           3  VenusaurMega Venusaur  Grass  80     100      123     80   \n",
       "4           4             Charmander   Fire  39      52       43     65   \n",
       "\n",
       "   Legendary  Normalised_Speed  \n",
       "0      False          0.228571  \n",
       "1      False          0.314286  \n",
       "2      False          0.428571  \n",
       "3      False          0.428571  \n",
       "4      False          0.342857  "
      ]
     },
     "execution_count": 24,
     "metadata": {},
     "output_type": "execute_result"
    }
   ],
   "source": [
    "pokemon_df.head()"
   ]
  },
  {
   "cell_type": "markdown",
   "metadata": {},
   "source": [
    "### Use `.to_csv()` to save your preprocessed data\n",
    "\n",
    "Save the new df as a new csv file with the `.to_csv()` with `normalised_pokemon.csv` as the name in the ()."
   ]
  },
  {
   "cell_type": "code",
   "execution_count": 25,
   "metadata": {},
   "outputs": [],
   "source": [
    "pokemon_df.to_csv('normalised_pokemon.csv')\n",
    "pokemon_df.to_excel('normalised_pokemon.xlsx')"
   ]
  },
  {
   "cell_type": "markdown",
   "metadata": {},
   "source": [
    "<a id='3'><h2><img src=\"https://images.vexels.com/media/users/3/153978/isolated/preview/483ef8b10a46e28d02293a31570c8c56-warning-sign-colored-stroke-icon-by-vexels.png\" width=23 align=\"left\"><font color=\"salmon\">&nbsp;3.</font><font color=\"salmon\"> Univariate Analysis</font> </h2></a>\n",
    "\n",
    "In Univariate Analysis, we want to understand a single variable dataset. The common measures include:\n",
    "\n",
    "1. Mean (Average)\n",
    "2. Median \n",
    "3. Mode \n",
    "4. Max & Min \n",
    "5. Spread \n",
    "\n",
    "One of the most useful measure is understanding the spread of a variable. To measure spread we need to understand the following: \n",
    "- Variance & Standard Deviation (learnt last lesson)\n",
    "- Interquartile Range \n",
    "\n",
    "Once we understand the spread of our dataset, we can also detect <b>outliers</b> within the dataset. We're now going to understand how to understand the spread and distribution of the dataset, then detect the outliers of our dataset."
   ]
  },
  {
   "cell_type": "markdown",
   "metadata": {},
   "source": [
    "<a id='3.1'><h3>3.1 Interquartile Range (IQR)</h3></a>\n",
    "\n",
    "A good statistic for summarizing a non-Gaussian (normal) distribution sample of data is the Interquartile Range, IQR. The values are arranged from the lowest to the highest, \n",
    "- the **first quartile** is the value where 25% of values are below the value. It is also called the 25th percentile\n",
    "- the **second quartile** is the value where 50% of values are below the value. It is also called the 50th percentile or the median\n",
    "- the **third quartile** is the value where 75% of values are below the value. It is also called the 75th percentile\n",
    "\n",
    "<!-- <img src=\"https://i.imgur.com/27S1Rkh.png\" width=\"400\"> -->\n",
    "<img src=\"https://i.imgur.com/PskMupG.png\" width=\"600\">\n",
    "<img src=\"https://i.imgur.com/WX2EavB.png\" width=\"500\">\n",
    "<img src=\"https://i.imgur.com/1VPnjhE.png\" width=\"500\">"
   ]
  },
  {
   "cell_type": "markdown",
   "metadata": {},
   "source": [
    "<a id='3.2'><h3>3.2 Outlier Detection</h3></a>\n",
    "\n",
    "An outlier is an observation that is unlike the other observations. It is rare, or distinct, or does not fit in some way. Outliers can have many causes, such as:\n",
    "\n",
    "- Measurement or input error\n",
    "- Data corruption\n",
    "- True outlier observation (e.g. Michael Jordan in basketball)\n",
    "\n",
    "<img src=\"https://i.imgur.com/kzAKVlJ.png\" width=\"500\">"
   ]
  },
  {
   "cell_type": "markdown",
   "metadata": {},
   "source": [
    "<a id='P1'><h2> <img src=\"https://cdn.shopify.com/s/files/1/1200/7374/products/book_aec28e76-52ec-44ab-bc01-41df1279c89f_550x825.png?v=1473897430\" width=25 align=\"left\"> <font color=\"darkorange\"> &nbsp; Practice III </font><font color=\"skyblue\"> * </font></h2></a>\n",
    "\n",
    "### Seattle Wages\n",
    "\n",
    "Prepare the Seattle Wages dataset and let's investigate the possible outliers of this dataset based on `Hourly Rate`. \n",
    "\n",
    "Open the `seattle-wages-2k.csv` and open it with pandas and store into a variable called `wages_df`. Preview the dataset with `.head()`."
   ]
  },
  {
   "cell_type": "code",
   "execution_count": 26,
   "metadata": {},
   "outputs": [
    {
     "data": {
      "text/html": [
       "<div>\n",
       "<style scoped>\n",
       "    .dataframe tbody tr th:only-of-type {\n",
       "        vertical-align: middle;\n",
       "    }\n",
       "\n",
       "    .dataframe tbody tr th {\n",
       "        vertical-align: top;\n",
       "    }\n",
       "\n",
       "    .dataframe thead th {\n",
       "        text-align: right;\n",
       "    }\n",
       "</style>\n",
       "<table border=\"1\" class=\"dataframe\">\n",
       "  <thead>\n",
       "    <tr style=\"text-align: right;\">\n",
       "      <th></th>\n",
       "      <th>Department</th>\n",
       "      <th>Job_Title</th>\n",
       "      <th>Hourly_Rate</th>\n",
       "    </tr>\n",
       "  </thead>\n",
       "  <tbody>\n",
       "    <tr>\n",
       "      <th>0</th>\n",
       "      <td>Seattle Public Utilities</td>\n",
       "      <td>Civil Engrng Spec,Assoc</td>\n",
       "      <td>38.67</td>\n",
       "    </tr>\n",
       "    <tr>\n",
       "      <th>1</th>\n",
       "      <td>Seattle Dept of Transportation</td>\n",
       "      <td>Bridge Elecl Maint Supv</td>\n",
       "      <td>46.15</td>\n",
       "    </tr>\n",
       "    <tr>\n",
       "      <th>2</th>\n",
       "      <td>City Light</td>\n",
       "      <td>Plng&amp;Dev Spec II</td>\n",
       "      <td>40.93</td>\n",
       "    </tr>\n",
       "    <tr>\n",
       "      <th>3</th>\n",
       "      <td>Seattle Center</td>\n",
       "      <td>Stage Tech *</td>\n",
       "      <td>30.42</td>\n",
       "    </tr>\n",
       "    <tr>\n",
       "      <th>4</th>\n",
       "      <td>Mayor's Office</td>\n",
       "      <td>Executive2</td>\n",
       "      <td>67.50</td>\n",
       "    </tr>\n",
       "  </tbody>\n",
       "</table>\n",
       "</div>"
      ],
      "text/plain": [
       "                       Department                Job_Title  Hourly_Rate\n",
       "0        Seattle Public Utilities  Civil Engrng Spec,Assoc        38.67\n",
       "1  Seattle Dept of Transportation  Bridge Elecl Maint Supv        46.15\n",
       "2                      City Light         Plng&Dev Spec II        40.93\n",
       "3                  Seattle Center             Stage Tech *        30.42\n",
       "4                  Mayor's Office               Executive2        67.50"
      ]
     },
     "execution_count": 26,
     "metadata": {},
     "output_type": "execute_result"
    }
   ],
   "source": [
    "wages_df = pd.read_csv('seattle-wages-2k.csv')\n",
    "wages_df.head()"
   ]
  },
  {
   "cell_type": "markdown",
   "metadata": {},
   "source": [
    "### Calculate the Quartiles\n",
    "\n",
    "Using `.quantile()` get Q1 and Q3 and store them in variables `quartile_1` and `quartile_3`. Inside this function set the `q=` parameter to the % of the quartile.\n",
    "\n",
    "**Expected Output:**\n",
    "```python\n",
    "    29.09 # quartile_1\n",
    "    47.9775 # quartile_3\n",
    "```"
   ]
  },
  {
   "cell_type": "code",
   "execution_count": 27,
   "metadata": {},
   "outputs": [
    {
     "name": "stdout",
     "output_type": "stream",
     "text": [
      "29.09\n",
      "47.9775\n"
     ]
    }
   ],
   "source": [
    "# Calculate the quantiles\n",
    "quartile_1 = wages_df['Hourly_Rate'].quantile(q=0.25)\n",
    "quartile_3 = wages_df['Hourly_Rate'].quantile(q=0.75)\n",
    "print(quartile_1)\n",
    "print(quartile_3)"
   ]
  },
  {
   "cell_type": "markdown",
   "metadata": {},
   "source": [
    "### Calculate the IQR \n",
    "\n",
    "Using the above variables, calculate the IQR and store it in the variable `IQR`.\n",
    "\n",
    "**Expected Output:**\n",
    "\n",
    "    18.8875"
   ]
  },
  {
   "cell_type": "code",
   "execution_count": 28,
   "metadata": {},
   "outputs": [
    {
     "name": "stdout",
     "output_type": "stream",
     "text": [
      "18.8875\n"
     ]
    }
   ],
   "source": [
    "# Calculate IQR\n",
    "IQR = quartile_3 - quartile_1\n",
    "print(IQR)"
   ]
  },
  {
   "cell_type": "markdown",
   "metadata": {},
   "source": [
    "### Calculate Bounds\n",
    "\n",
    "Using the variables above, calculate the upper and lower bounds and store them into the variables `lower_bound` and `upper_bound`.\n",
    "\n",
    "**Expected Output:**\n",
    "```python\n",
    "    0.7587500000000027 # lower bound\n",
    "    76.30875 # upper bound\n",
    "```"
   ]
  },
  {
   "cell_type": "code",
   "execution_count": 29,
   "metadata": {},
   "outputs": [
    {
     "name": "stdout",
     "output_type": "stream",
     "text": [
      "0.7587500000000027\n",
      "76.30875\n"
     ]
    }
   ],
   "source": [
    "# Calculate Upper and Lower Bounds\n",
    "lower_bound = quartile_1 - 1.5 * IQR\n",
    "upper_bound = quartile_3 + 1.5 * IQR\n",
    "print(lower_bound)\n",
    "print(upper_bound)\n"
   ]
  },
  {
   "cell_type": "markdown",
   "metadata": {},
   "source": [
    "### Filter Data for Rows Within Bound\n",
    "\n",
    "Using what you have learnt about filtering, retrieve the data which are deemed as outliers. You should use the variables you've created above. Store this data as variable `outliers_df`.\n",
    "\n",
    "**Expected Output:**\n",
    "```python\n",
    "    print(len(outliers_df)) # 24\n",
    "```"
   ]
  },
  {
   "cell_type": "code",
   "execution_count": 30,
   "metadata": {},
   "outputs": [
    {
     "name": "stdout",
     "output_type": "stream",
     "text": [
      "24\n"
     ]
    }
   ],
   "source": [
    "cond = (wages_df['Hourly_Rate'] > upper_bound) | (wages_df['Hourly_Rate'] < lower_bound)\n",
    "outliers_df = wages_df[cond]\n",
    "print(len(outliers_df))\n",
    "\n",
    "#sample answer\n",
    "# Get those outside the bounds\n",
    "#outside_upper = wages_df['Hourly_Rate'] > upper_bound\n",
    "#outside_lower = wages_df['Hourly_Rate'] < lower_bound\n",
    "#outliers_df = wages_df[outside_upper | outside_lower]\n",
    "#print(len(outliers_df))\n"
   ]
  },
  {
   "cell_type": "code",
   "execution_count": 31,
   "metadata": {},
   "outputs": [
    {
     "data": {
      "text/plain": [
       "<AxesSubplot:>"
      ]
     },
     "execution_count": 31,
     "metadata": {},
     "output_type": "execute_result"
    },
    {
     "data": {
      "image/png": "[encoded data removed]",
      "text/plain": [
       "<Figure size 432x288 with 1 Axes>"
      ]
     },
     "metadata": {
      "needs_background": "light"
     },
     "output_type": "display_data"
    }
   ],
   "source": [
    "wages_df.plot(kind = 'box')"
   ]
  },
  {
   "cell_type": "markdown",
   "metadata": {},
   "source": [
    "### Visualise (End of Practice)\n",
    "\n",
    "When you've completed the above practice, you can cross check your answers with the visualisation below. "
   ]
  },
  {
   "cell_type": "code",
   "execution_count": 32,
   "metadata": {},
   "outputs": [
    {
     "data": {
      "image/png": "[encoded data removed]",
      "text/plain": [
       "<Figure size 216x864 with 1 Axes>"
      ]
     },
     "metadata": {
      "needs_background": "light"
     },
     "output_type": "display_data"
    }
   ],
   "source": [
    "import matplotlib.pyplot as plt\n",
    "\n",
    "# Visualise to confirm\n",
    "fig = plt.figure(figsize=(3, 12))\n",
    "# fig = plt.figure(figsize=(3, 100)) # Use this to examine the outliers in greater detail\n",
    "ax1 = plt.subplot(111)\n",
    "# Plot the boxplot and add the relevant features of the plot\n",
    "ax1.boxplot(wages_df['Hourly_Rate'], sym='+', whis=1.5)\n",
    "ax1.set_ylabel('Hourly Rate')\n",
    "ax1.set_title('Box plot for Hourly_Rate')\n",
    "plt.xticks([1], ['Employees'])\n",
    "# Set the yticks of the dataset\n",
    "ax1.set_yticks(np.arange(0, 120, 5))\n",
    "ax1.set_yticklabels(labels=np.arange(0, 120, 5), fontsize=8)\n",
    "# Use grid to show the gridlines in the plot\n",
    "ax1.yaxis.grid(True, linestyle='-', color='lightgrey', alpha=0.5)\n",
    "plt.show()"
   ]
  },
  {
   "cell_type": "markdown",
   "metadata": {},
   "source": [
    "### Use `.to_csv()` to save the outliers\n",
    "\n",
    "Save the new df as a new csv file with the `.to_csv()` with `outliers.csv` as the name in the ()."
   ]
  },
  {
   "cell_type": "code",
   "execution_count": 33,
   "metadata": {},
   "outputs": [],
   "source": [
    "outliers_df.to_csv('outliers.csv')"
   ]
  },
  {
   "cell_type": "markdown",
   "metadata": {},
   "source": [
    "<a id='4'><h2><img src=\"https://images.vexels.com/media/users/3/153978/isolated/preview/483ef8b10a46e28d02293a31570c8c56-warning-sign-colored-stroke-icon-by-vexels.png\" width=23 align=\"left\"><font color=\"salmon\">&nbsp;4.</font><font color=\"salmon\"> Data Aggregation</font> </h2></a>"
   ]
  },
  {
   "cell_type": "code",
   "execution_count": 34,
   "metadata": {},
   "outputs": [
    {
     "data": {
      "text/html": [
       "<div>\n",
       "<style scoped>\n",
       "    .dataframe tbody tr th:only-of-type {\n",
       "        vertical-align: middle;\n",
       "    }\n",
       "\n",
       "    .dataframe tbody tr th {\n",
       "        vertical-align: top;\n",
       "    }\n",
       "\n",
       "    .dataframe thead th {\n",
       "        text-align: right;\n",
       "    }\n",
       "</style>\n",
       "<table border=\"1\" class=\"dataframe\">\n",
       "  <thead>\n",
       "    <tr style=\"text-align: right;\">\n",
       "      <th></th>\n",
       "      <th>ClassID</th>\n",
       "      <th>ClassType</th>\n",
       "      <th>Co-Instructor</th>\n",
       "      <th>Coordinating_TA</th>\n",
       "      <th>Instructor</th>\n",
       "      <th>Rating</th>\n",
       "      <th>Students</th>\n",
       "    </tr>\n",
       "  </thead>\n",
       "  <tbody>\n",
       "    <tr>\n",
       "      <th>0</th>\n",
       "      <td>1</td>\n",
       "      <td>DS101</td>\n",
       "      <td>False</td>\n",
       "      <td>Dick</td>\n",
       "      <td>Jon</td>\n",
       "      <td>Nil</td>\n",
       "      <td>40</td>\n",
       "    </tr>\n",
       "    <tr>\n",
       "      <th>1</th>\n",
       "      <td>2</td>\n",
       "      <td>DS101</td>\n",
       "      <td>True</td>\n",
       "      <td>Vera</td>\n",
       "      <td>Andre</td>\n",
       "      <td>7</td>\n",
       "      <td>43</td>\n",
       "    </tr>\n",
       "    <tr>\n",
       "      <th>2</th>\n",
       "      <td>3</td>\n",
       "      <td>DS102</td>\n",
       "      <td>False</td>\n",
       "      <td>Vera</td>\n",
       "      <td>Jon</td>\n",
       "      <td>9</td>\n",
       "      <td>41</td>\n",
       "    </tr>\n",
       "    <tr>\n",
       "      <th>3</th>\n",
       "      <td>4</td>\n",
       "      <td>DS102</td>\n",
       "      <td>True</td>\n",
       "      <td>Dick</td>\n",
       "      <td>Andre</td>\n",
       "      <td>Nope</td>\n",
       "      <td>44</td>\n",
       "    </tr>\n",
       "    <tr>\n",
       "      <th>4</th>\n",
       "      <td>5</td>\n",
       "      <td>DS101</td>\n",
       "      <td>True</td>\n",
       "      <td>Dick</td>\n",
       "      <td>Andre</td>\n",
       "      <td>10</td>\n",
       "      <td>45</td>\n",
       "    </tr>\n",
       "  </tbody>\n",
       "</table>\n",
       "</div>"
      ],
      "text/plain": [
       "   ClassID ClassType  Co-Instructor Coordinating_TA Instructor Rating  \\\n",
       "0        1     DS101          False            Dick        Jon    Nil   \n",
       "1        2     DS101           True            Vera      Andre      7   \n",
       "2        3     DS102          False            Vera        Jon      9   \n",
       "3        4     DS102           True            Dick      Andre   Nope   \n",
       "4        5     DS101           True            Dick      Andre     10   \n",
       "\n",
       "   Students  \n",
       "0        40  \n",
       "1        43  \n",
       "2        41  \n",
       "3        44  \n",
       "4        45  "
      ]
     },
     "execution_count": 34,
     "metadata": {},
     "output_type": "execute_result"
    }
   ],
   "source": [
    "feedback_df = pd.read_csv('HWAPandasSandbox.csv')\n",
    "feedback_df.head()"
   ]
  },
  {
   "cell_type": "markdown",
   "metadata": {},
   "source": [
    "<a id='4.1'><h3>4.1 Groupby</h3></a>\n",
    "\n",
    "Groupby is one of the most useful methods when trying to categorize data within variable. As the name suggest, you are trying to <b>Group</b> the data <b>by</b> something.\n",
    "\n",
    "<img src=\"https://i.imgur.com/cfgImho.png\" width=\"500\">\n",
    "<img src=\"https://i.imgur.com/KrbyyNy.png\" width=\"500\">\n",
    "\n",
    "#### It is important to know that Groupby objects can't be seen, so don't be alarmed if you don't see it"
   ]
  },
  {
   "cell_type": "code",
   "execution_count": 35,
   "metadata": {},
   "outputs": [
    {
     "data": {
      "text/plain": [
       "<pandas.core.groupby.generic.DataFrameGroupBy object at 0x000001B037E55CA0>"
      ]
     },
     "execution_count": 35,
     "metadata": {},
     "output_type": "execute_result"
    }
   ],
   "source": [
    "classtype_gb = feedback_df.groupby('ClassType')\n",
    "classtype_gb"
   ]
  },
  {
   "cell_type": "markdown",
   "metadata": {},
   "source": [
    "<a id='4.2'><h3>4.2 Simple Aggregation</h3></a>\n",
    "\n",
    "With a Groupby object, you can apply many aggregation methods, applied to <b>numeric</b> columns, such as:\n",
    "\n",
    "1. `.sum()` - sums up based on category\n",
    "2. `.mean()` - gets average based on category\n",
    "3. `.min()` - gets minimum based on category\n",
    "4. `.max()` - gets maximum based on category\n",
    "5. `.size()` - gets count based on category\n",
    "\n",
    "and many more..\n",
    "\n",
    "<img src=\"https://i.imgur.com/8QKUYiL.png\" width=\"500\">"
   ]
  },
  {
   "cell_type": "code",
   "execution_count": 36,
   "metadata": {},
   "outputs": [
    {
     "name": "stdout",
     "output_type": "stream",
     "text": [
      "           ClassID  Co-Instructor  Students\n",
      "ClassType                                  \n",
      "DS101            8              2       128\n",
      "DS102            7              1        85\n",
      "            ClassID  Co-Instructor   Students\n",
      "ClassType                                    \n",
      "DS101      2.666667       0.666667  42.666667\n",
      "DS102      3.500000       0.500000  42.500000\n",
      "ClassType\n",
      "DS101    3\n",
      "DS102    2\n",
      "dtype: int64\n"
     ]
    }
   ],
   "source": [
    "print(classtype_gb.sum())\n",
    "print(classtype_gb.mean())\n",
    "print(classtype_gb.size())"
   ]
  },
  {
   "cell_type": "code",
   "execution_count": 37,
   "metadata": {},
   "outputs": [
    {
     "data": {
      "text/plain": [
       "ClassType\n",
       "DS101    42.666667\n",
       "DS102    42.500000\n",
       "Name: Students, dtype: float64"
      ]
     },
     "execution_count": 37,
     "metadata": {},
     "output_type": "execute_result"
    }
   ],
   "source": [
    "feedback_df.groupby('ClassType')['Students'].mean() #we can also isolate just a column from the groupby object"
   ]
  },
  {
   "cell_type": "markdown",
   "metadata": {},
   "source": [
    "<a id='2.3'><h3>2.3 Advanced Aggregation</h3></a>\n",
    "\n",
    "You can also have multiple aggregation methods put together within a Groupby object by using the `.agg()` where the function accepts a <b>Dictionary</b>, where the key is column name and the value is a <b>list</b> of methods mentioned above. \n",
    "\n",
    "<img src=\"https://i.imgur.com/erWO1yw.png\" width=\"500\">"
   ]
  },
  {
   "cell_type": "code",
   "execution_count": 38,
   "metadata": {},
   "outputs": [
    {
     "data": {
      "text/html": [
       "<div>\n",
       "<style scoped>\n",
       "    .dataframe tbody tr th:only-of-type {\n",
       "        vertical-align: middle;\n",
       "    }\n",
       "\n",
       "    .dataframe tbody tr th {\n",
       "        vertical-align: top;\n",
       "    }\n",
       "\n",
       "    .dataframe thead tr th {\n",
       "        text-align: left;\n",
       "    }\n",
       "\n",
       "    .dataframe thead tr:last-of-type th {\n",
       "        text-align: right;\n",
       "    }\n",
       "</style>\n",
       "<table border=\"1\" class=\"dataframe\">\n",
       "  <thead>\n",
       "    <tr>\n",
       "      <th></th>\n",
       "      <th colspan=\"3\" halign=\"left\">Students</th>\n",
       "    </tr>\n",
       "    <tr>\n",
       "      <th></th>\n",
       "      <th>max</th>\n",
       "      <th>min</th>\n",
       "      <th>sum</th>\n",
       "    </tr>\n",
       "    <tr>\n",
       "      <th>ClassType</th>\n",
       "      <th></th>\n",
       "      <th></th>\n",
       "      <th></th>\n",
       "    </tr>\n",
       "  </thead>\n",
       "  <tbody>\n",
       "    <tr>\n",
       "      <th>DS101</th>\n",
       "      <td>45</td>\n",
       "      <td>40</td>\n",
       "      <td>128</td>\n",
       "    </tr>\n",
       "    <tr>\n",
       "      <th>DS102</th>\n",
       "      <td>44</td>\n",
       "      <td>41</td>\n",
       "      <td>85</td>\n",
       "    </tr>\n",
       "  </tbody>\n",
       "</table>\n",
       "</div>"
      ],
      "text/plain": [
       "          Students         \n",
       "               max min  sum\n",
       "ClassType                  \n",
       "DS101           45  40  128\n",
       "DS102           44  41   85"
      ]
     },
     "execution_count": 38,
     "metadata": {},
     "output_type": "execute_result"
    }
   ],
   "source": [
    "agg_dictionary = {\n",
    "    \"Students\": [\"max\",\"min\",\"sum\"]\n",
    "}\n",
    "classtype_gb.agg(agg_dictionary)\n"
   ]
  },
  {
   "cell_type": "code",
   "execution_count": 39,
   "metadata": {},
   "outputs": [
    {
     "data": {
      "text/html": [
       "<div>\n",
       "<style scoped>\n",
       "    .dataframe tbody tr th:only-of-type {\n",
       "        vertical-align: middle;\n",
       "    }\n",
       "\n",
       "    .dataframe tbody tr th {\n",
       "        vertical-align: top;\n",
       "    }\n",
       "\n",
       "    .dataframe thead tr th {\n",
       "        text-align: left;\n",
       "    }\n",
       "\n",
       "    .dataframe thead tr:last-of-type th {\n",
       "        text-align: right;\n",
       "    }\n",
       "</style>\n",
       "<table border=\"1\" class=\"dataframe\">\n",
       "  <thead>\n",
       "    <tr>\n",
       "      <th></th>\n",
       "      <th colspan=\"2\" halign=\"left\">Students</th>\n",
       "      <th colspan=\"2\" halign=\"left\">ClassID</th>\n",
       "    </tr>\n",
       "    <tr>\n",
       "      <th></th>\n",
       "      <th>mean</th>\n",
       "      <th>max</th>\n",
       "      <th>mean</th>\n",
       "      <th>max</th>\n",
       "    </tr>\n",
       "    <tr>\n",
       "      <th>ClassType</th>\n",
       "      <th></th>\n",
       "      <th></th>\n",
       "      <th></th>\n",
       "      <th></th>\n",
       "    </tr>\n",
       "  </thead>\n",
       "  <tbody>\n",
       "    <tr>\n",
       "      <th>DS101</th>\n",
       "      <td>42.666667</td>\n",
       "      <td>45</td>\n",
       "      <td>2.666667</td>\n",
       "      <td>5</td>\n",
       "    </tr>\n",
       "    <tr>\n",
       "      <th>DS102</th>\n",
       "      <td>42.500000</td>\n",
       "      <td>44</td>\n",
       "      <td>3.500000</td>\n",
       "      <td>4</td>\n",
       "    </tr>\n",
       "  </tbody>\n",
       "</table>\n",
       "</div>"
      ],
      "text/plain": [
       "            Students       ClassID    \n",
       "                mean max      mean max\n",
       "ClassType                             \n",
       "DS101      42.666667  45  2.666667   5\n",
       "DS102      42.500000  44  3.500000   4"
      ]
     },
     "execution_count": 39,
     "metadata": {},
     "output_type": "execute_result"
    }
   ],
   "source": [
    "classtype_gb[['Students', 'ClassID']].agg(['mean' , 'max'])  #another way to not need a dictionary\n",
    "#feedback_df.groupby('ClassType')['Students'].agg(['mean' , 'max'])  #merging it into a one liner\n"
   ]
  },
  {
   "cell_type": "markdown",
   "metadata": {},
   "source": [
    "<a id='P4'><h2> <img src=\"https://cdn.shopify.com/s/files/1/1200/7374/products/book_aec28e76-52ec-44ab-bc01-41df1279c89f_550x825.png?v=1473897430\" width=25 align=\"left\"> <font color=\"darkorange\"> &nbsp; Practice IV </font><font color=\"skyblue\"> * </font></h2></a>\n",
    "\n",
    "### Pokemon Dataset\n",
    "\n",
    "Open the `pokemon.csv` and open it with pandas as `pokemon_df`. Preview the dataset with `.head()`."
   ]
  },
  {
   "cell_type": "code",
   "execution_count": 40,
   "metadata": {},
   "outputs": [
    {
     "data": {
      "text/html": [
       "<div>\n",
       "<style scoped>\n",
       "    .dataframe tbody tr th:only-of-type {\n",
       "        vertical-align: middle;\n",
       "    }\n",
       "\n",
       "    .dataframe tbody tr th {\n",
       "        vertical-align: top;\n",
       "    }\n",
       "\n",
       "    .dataframe thead th {\n",
       "        text-align: right;\n",
       "    }\n",
       "</style>\n",
       "<table border=\"1\" class=\"dataframe\">\n",
       "  <thead>\n",
       "    <tr style=\"text-align: right;\">\n",
       "      <th></th>\n",
       "      <th>Pokemon_ID</th>\n",
       "      <th>Name</th>\n",
       "      <th>Type</th>\n",
       "      <th>HP</th>\n",
       "      <th>Attack</th>\n",
       "      <th>Defense</th>\n",
       "      <th>Speed</th>\n",
       "      <th>Legendary</th>\n",
       "    </tr>\n",
       "  </thead>\n",
       "  <tbody>\n",
       "    <tr>\n",
       "      <th>0</th>\n",
       "      <td>1</td>\n",
       "      <td>Bulbasaur</td>\n",
       "      <td>Grass</td>\n",
       "      <td>45</td>\n",
       "      <td>49</td>\n",
       "      <td>49</td>\n",
       "      <td>45</td>\n",
       "      <td>False</td>\n",
       "    </tr>\n",
       "    <tr>\n",
       "      <th>1</th>\n",
       "      <td>2</td>\n",
       "      <td>Ivysaur</td>\n",
       "      <td>Grass</td>\n",
       "      <td>60</td>\n",
       "      <td>62</td>\n",
       "      <td>63</td>\n",
       "      <td>60</td>\n",
       "      <td>False</td>\n",
       "    </tr>\n",
       "    <tr>\n",
       "      <th>2</th>\n",
       "      <td>3</td>\n",
       "      <td>Venusaur</td>\n",
       "      <td>Grass</td>\n",
       "      <td>80</td>\n",
       "      <td>82</td>\n",
       "      <td>83</td>\n",
       "      <td>80</td>\n",
       "      <td>False</td>\n",
       "    </tr>\n",
       "    <tr>\n",
       "      <th>3</th>\n",
       "      <td>3</td>\n",
       "      <td>VenusaurMega Venusaur</td>\n",
       "      <td>Grass</td>\n",
       "      <td>80</td>\n",
       "      <td>100</td>\n",
       "      <td>123</td>\n",
       "      <td>80</td>\n",
       "      <td>False</td>\n",
       "    </tr>\n",
       "    <tr>\n",
       "      <th>4</th>\n",
       "      <td>4</td>\n",
       "      <td>Charmander</td>\n",
       "      <td>Fire</td>\n",
       "      <td>39</td>\n",
       "      <td>52</td>\n",
       "      <td>43</td>\n",
       "      <td>65</td>\n",
       "      <td>False</td>\n",
       "    </tr>\n",
       "  </tbody>\n",
       "</table>\n",
       "</div>"
      ],
      "text/plain": [
       "   Pokemon_ID                   Name   Type  HP  Attack  Defense  Speed  \\\n",
       "0           1              Bulbasaur  Grass  45      49       49     45   \n",
       "1           2                Ivysaur  Grass  60      62       63     60   \n",
       "2           3               Venusaur  Grass  80      82       83     80   \n",
       "3           3  VenusaurMega Venusaur  Grass  80     100      123     80   \n",
       "4           4             Charmander   Fire  39      52       43     65   \n",
       "\n",
       "   Legendary  \n",
       "0      False  \n",
       "1      False  \n",
       "2      False  \n",
       "3      False  \n",
       "4      False  "
      ]
     },
     "metadata": {},
     "output_type": "display_data"
    },
    {
     "data": {
      "text/plain": [
       "Pokemon_ID    800\n",
       "Name          800\n",
       "Type          800\n",
       "HP            800\n",
       "Attack        800\n",
       "Defense       800\n",
       "Speed         800\n",
       "Legendary     800\n",
       "dtype: int64"
      ]
     },
     "execution_count": 40,
     "metadata": {},
     "output_type": "execute_result"
    }
   ],
   "source": [
    "pokemon_df = pd.read_csv('pokemon.csv')\n",
    "display(pokemon_df.head())\n",
    "pokemon_df.count()"
   ]
  },
  {
   "cell_type": "markdown",
   "metadata": {},
   "source": [
    "### Filter by `Type`\n",
    "\n",
    "Filter the dataset to just `Grass`, `Fire` and `Water`. Store this in a new df called `grass_fire_water_df`.\n",
    "\n",
    "_Hint: use .isin()_"
   ]
  },
  {
   "cell_type": "code",
   "execution_count": 41,
   "metadata": {},
   "outputs": [
    {
     "data": {
      "text/html": [
       "<div>\n",
       "<style scoped>\n",
       "    .dataframe tbody tr th:only-of-type {\n",
       "        vertical-align: middle;\n",
       "    }\n",
       "\n",
       "    .dataframe tbody tr th {\n",
       "        vertical-align: top;\n",
       "    }\n",
       "\n",
       "    .dataframe thead th {\n",
       "        text-align: right;\n",
       "    }\n",
       "</style>\n",
       "<table border=\"1\" class=\"dataframe\">\n",
       "  <thead>\n",
       "    <tr style=\"text-align: right;\">\n",
       "      <th></th>\n",
       "      <th>Pokemon_ID</th>\n",
       "      <th>Name</th>\n",
       "      <th>Type</th>\n",
       "      <th>HP</th>\n",
       "      <th>Attack</th>\n",
       "      <th>Defense</th>\n",
       "      <th>Speed</th>\n",
       "      <th>Legendary</th>\n",
       "    </tr>\n",
       "  </thead>\n",
       "  <tbody>\n",
       "    <tr>\n",
       "      <th>0</th>\n",
       "      <td>1</td>\n",
       "      <td>Bulbasaur</td>\n",
       "      <td>Grass</td>\n",
       "      <td>45</td>\n",
       "      <td>49</td>\n",
       "      <td>49</td>\n",
       "      <td>45</td>\n",
       "      <td>False</td>\n",
       "    </tr>\n",
       "    <tr>\n",
       "      <th>1</th>\n",
       "      <td>2</td>\n",
       "      <td>Ivysaur</td>\n",
       "      <td>Grass</td>\n",
       "      <td>60</td>\n",
       "      <td>62</td>\n",
       "      <td>63</td>\n",
       "      <td>60</td>\n",
       "      <td>False</td>\n",
       "    </tr>\n",
       "    <tr>\n",
       "      <th>2</th>\n",
       "      <td>3</td>\n",
       "      <td>Venusaur</td>\n",
       "      <td>Grass</td>\n",
       "      <td>80</td>\n",
       "      <td>82</td>\n",
       "      <td>83</td>\n",
       "      <td>80</td>\n",
       "      <td>False</td>\n",
       "    </tr>\n",
       "    <tr>\n",
       "      <th>3</th>\n",
       "      <td>3</td>\n",
       "      <td>VenusaurMega Venusaur</td>\n",
       "      <td>Grass</td>\n",
       "      <td>80</td>\n",
       "      <td>100</td>\n",
       "      <td>123</td>\n",
       "      <td>80</td>\n",
       "      <td>False</td>\n",
       "    </tr>\n",
       "    <tr>\n",
       "      <th>4</th>\n",
       "      <td>4</td>\n",
       "      <td>Charmander</td>\n",
       "      <td>Fire</td>\n",
       "      <td>39</td>\n",
       "      <td>52</td>\n",
       "      <td>43</td>\n",
       "      <td>65</td>\n",
       "      <td>False</td>\n",
       "    </tr>\n",
       "  </tbody>\n",
       "</table>\n",
       "</div>"
      ],
      "text/plain": [
       "   Pokemon_ID                   Name   Type  HP  Attack  Defense  Speed  \\\n",
       "0           1              Bulbasaur  Grass  45      49       49     45   \n",
       "1           2                Ivysaur  Grass  60      62       63     60   \n",
       "2           3               Venusaur  Grass  80      82       83     80   \n",
       "3           3  VenusaurMega Venusaur  Grass  80     100      123     80   \n",
       "4           4             Charmander   Fire  39      52       43     65   \n",
       "\n",
       "   Legendary  \n",
       "0      False  \n",
       "1      False  \n",
       "2      False  \n",
       "3      False  \n",
       "4      False  "
      ]
     },
     "metadata": {},
     "output_type": "display_data"
    },
    {
     "data": {
      "text/plain": [
       "Pokemon_ID    234\n",
       "Name          234\n",
       "Type          234\n",
       "HP            234\n",
       "Attack        234\n",
       "Defense       234\n",
       "Speed         234\n",
       "Legendary     234\n",
       "dtype: int64"
      ]
     },
     "execution_count": 41,
     "metadata": {},
     "output_type": "execute_result"
    }
   ],
   "source": [
    "grass_fire_water_df = pokemon_df[pokemon_df['Type'].isin(['Grass', 'Fire', 'Water'])]\n",
    "display(grass_fire_water_df.head())\n",
    "grass_fire_water_df.count()"
   ]
  },
  {
   "cell_type": "markdown",
   "metadata": {},
   "source": [
    "### Group by `Type`\n",
    "\n",
    "From the filtered DataFrame above, create a GroupBy object called `grass_fire_water_gb`."
   ]
  },
  {
   "cell_type": "code",
   "execution_count": 42,
   "metadata": {},
   "outputs": [],
   "source": [
    "grass_fire_water_gb = grass_fire_water_df.groupby('Type')"
   ]
  },
  {
   "cell_type": "markdown",
   "metadata": {},
   "source": [
    "### Get Number of Pokemons For Each `Type`\n",
    "\n",
    "From the above Groupby object, use `.size()` get the number of pokemon of each type."
   ]
  },
  {
   "cell_type": "code",
   "execution_count": 43,
   "metadata": {},
   "outputs": [
    {
     "data": {
      "text/plain": [
       "Water    112\n",
       "Grass     70\n",
       "Fire      52\n",
       "Name: Type, dtype: int64"
      ]
     },
     "execution_count": 43,
     "metadata": {},
     "output_type": "execute_result"
    }
   ],
   "source": [
    "grass_fire_water_gb.size()\n",
    "grass_fire_water_df['Type'].value_counts() #another way to achieve it without groupby"
   ]
  },
  {
   "cell_type": "markdown",
   "metadata": {},
   "source": [
    "### Find Max HP Legendary and Non Legendary Pokemon\n",
    "\n",
    "1. Isolate the `HP` and `Legendary` columns in a DataFrame from `pokemon_df`\n",
    "2. Group by `Legendary`\n",
    "3. Apply `.max()` on the Groupby object.\n",
    "\n",
    "**Expected Output:**\n",
    "    \n",
    "<img src=\"https://i.imgur.com/zLftmod.png\" width=\"100\" align=\"left\">"
   ]
  },
  {
   "cell_type": "code",
   "execution_count": 44,
   "metadata": {},
   "outputs": [
    {
     "data": {
      "text/html": [
       "<div>\n",
       "<style scoped>\n",
       "    .dataframe tbody tr th:only-of-type {\n",
       "        vertical-align: middle;\n",
       "    }\n",
       "\n",
       "    .dataframe tbody tr th {\n",
       "        vertical-align: top;\n",
       "    }\n",
       "\n",
       "    .dataframe thead th {\n",
       "        text-align: right;\n",
       "    }\n",
       "</style>\n",
       "<table border=\"1\" class=\"dataframe\">\n",
       "  <thead>\n",
       "    <tr style=\"text-align: right;\">\n",
       "      <th></th>\n",
       "      <th>HP</th>\n",
       "      <th>Legendary</th>\n",
       "    </tr>\n",
       "  </thead>\n",
       "  <tbody>\n",
       "    <tr>\n",
       "      <th>0</th>\n",
       "      <td>45</td>\n",
       "      <td>False</td>\n",
       "    </tr>\n",
       "    <tr>\n",
       "      <th>1</th>\n",
       "      <td>60</td>\n",
       "      <td>False</td>\n",
       "    </tr>\n",
       "    <tr>\n",
       "      <th>2</th>\n",
       "      <td>80</td>\n",
       "      <td>False</td>\n",
       "    </tr>\n",
       "    <tr>\n",
       "      <th>3</th>\n",
       "      <td>80</td>\n",
       "      <td>False</td>\n",
       "    </tr>\n",
       "    <tr>\n",
       "      <th>4</th>\n",
       "      <td>39</td>\n",
       "      <td>False</td>\n",
       "    </tr>\n",
       "    <tr>\n",
       "      <th>...</th>\n",
       "      <td>...</td>\n",
       "      <td>...</td>\n",
       "    </tr>\n",
       "    <tr>\n",
       "      <th>795</th>\n",
       "      <td>50</td>\n",
       "      <td>True</td>\n",
       "    </tr>\n",
       "    <tr>\n",
       "      <th>796</th>\n",
       "      <td>50</td>\n",
       "      <td>True</td>\n",
       "    </tr>\n",
       "    <tr>\n",
       "      <th>797</th>\n",
       "      <td>80</td>\n",
       "      <td>True</td>\n",
       "    </tr>\n",
       "    <tr>\n",
       "      <th>798</th>\n",
       "      <td>80</td>\n",
       "      <td>True</td>\n",
       "    </tr>\n",
       "    <tr>\n",
       "      <th>799</th>\n",
       "      <td>80</td>\n",
       "      <td>True</td>\n",
       "    </tr>\n",
       "  </tbody>\n",
       "</table>\n",
       "<p>800 rows × 2 columns</p>\n",
       "</div>"
      ],
      "text/plain": [
       "     HP  Legendary\n",
       "0    45      False\n",
       "1    60      False\n",
       "2    80      False\n",
       "3    80      False\n",
       "4    39      False\n",
       "..   ..        ...\n",
       "795  50       True\n",
       "796  50       True\n",
       "797  80       True\n",
       "798  80       True\n",
       "799  80       True\n",
       "\n",
       "[800 rows x 2 columns]"
      ]
     },
     "metadata": {},
     "output_type": "display_data"
    },
    {
     "data": {
      "text/plain": [
       "<pandas.core.groupby.generic.DataFrameGroupBy object at 0x000001B037F0DE50>"
      ]
     },
     "metadata": {},
     "output_type": "display_data"
    },
    {
     "data": {
      "text/html": [
       "<div>\n",
       "<style scoped>\n",
       "    .dataframe tbody tr th:only-of-type {\n",
       "        vertical-align: middle;\n",
       "    }\n",
       "\n",
       "    .dataframe tbody tr th {\n",
       "        vertical-align: top;\n",
       "    }\n",
       "\n",
       "    .dataframe thead th {\n",
       "        text-align: right;\n",
       "    }\n",
       "</style>\n",
       "<table border=\"1\" class=\"dataframe\">\n",
       "  <thead>\n",
       "    <tr style=\"text-align: right;\">\n",
       "      <th></th>\n",
       "      <th>HP</th>\n",
       "    </tr>\n",
       "    <tr>\n",
       "      <th>Legendary</th>\n",
       "      <th></th>\n",
       "    </tr>\n",
       "  </thead>\n",
       "  <tbody>\n",
       "    <tr>\n",
       "      <th>False</th>\n",
       "      <td>255</td>\n",
       "    </tr>\n",
       "    <tr>\n",
       "      <th>True</th>\n",
       "      <td>150</td>\n",
       "    </tr>\n",
       "  </tbody>\n",
       "</table>\n",
       "</div>"
      ],
      "text/plain": [
       "            HP\n",
       "Legendary     \n",
       "False      255\n",
       "True       150"
      ]
     },
     "execution_count": 44,
     "metadata": {},
     "output_type": "execute_result"
    }
   ],
   "source": [
    "legendary_df = pokemon_df[['HP', 'Legendary']]\n",
    "display(legendary_df)\n",
    "legendary_gb = legendary_df.groupby('Legendary')\n",
    "display(legendary_gb)\n",
    "legendary_gb.max()"
   ]
  },
  {
   "cell_type": "markdown",
   "metadata": {},
   "source": [
    "**Credits**\n",
    "- [City of Seattle Wage Data](https://data.seattle.gov/City-Business/City-of-Seattle-Wage-Data/2khk-5ukd) for the dataset\n",
    "- [Pokemon with stats, Kaggle](https://www.kaggle.com/abcsds/pokemon) for the dataset"
   ]
  },
  {
   "cell_type": "code",
   "execution_count": null,
   "metadata": {},
   "outputs": [],
   "source": []
  },
  {
   "cell_type": "code",
   "execution_count": 45,
   "metadata": {},
   "outputs": [
    {
     "ename": "ModuleNotFoundError",
     "evalue": "No module named 'dataprep'",
     "output_type": "error",
     "traceback": [
      "\u001b[1;31m---------------------------------------------------------------------------\u001b[0m",
      "\u001b[1;31mModuleNotFoundError\u001b[0m                       Traceback (most recent call last)",
      "Input \u001b[1;32mIn [45]\u001b[0m, in \u001b[0;36m<cell line: 1>\u001b[1;34m()\u001b[0m\n\u001b[1;32m----> 1\u001b[0m \u001b[38;5;28;01mfrom\u001b[39;00m \u001b[38;5;21;01mdataprep\u001b[39;00m\u001b[38;5;21;01m.\u001b[39;00m\u001b[38;5;21;01meda\u001b[39;00m \u001b[38;5;28;01mimport\u001b[39;00m create_report\n\u001b[0;32m      2\u001b[0m create_report(pokemon_df)\n",
      "\u001b[1;31mModuleNotFoundError\u001b[0m: No module named 'dataprep'"
     ]
    }
   ],
   "source": [
    "from dataprep.eda import create_report\n",
    "create_report(pokemon_df)"
   ]
  }
 ],
 "metadata": {
  "kernelspec": {
   "display_name": "Python 3 (ipykernel)",
   "language": "python",
   "name": "python3"
  },
  "language_info": {
   "codemirror_mode": {
    "name": "ipython",
    "version": 3
   },
   "file_extension": ".py",
   "mimetype": "text/x-python",
   "name": "python",
   "nbconvert_exporter": "python",
   "pygments_lexer": "ipython3",
   "version": "3.9.12"
  },
  "toc": {
   "base_numbering": 1,
   "nav_menu": {},
   "number_sections": true,
   "sideBar": true,
   "skip_h1_title": false,
   "title_cell": "Table of Contents",
   "title_sidebar": "Contents",
   "toc_cell": false,
   "toc_position": {},
   "toc_section_display": true,
   "toc_window_display": true
  },
  "varInspector": {
   "cols": {
    "lenName": 16,
    "lenType": 16,
    "lenVar": 40
   },
   "kernels_config": {
    "python": {
     "delete_cmd_postfix": "",
     "delete_cmd_prefix": "del ",
     "library": "var_list.py",
     "varRefreshCmd": "print(var_dic_list())"
    },
    "r": {
     "delete_cmd_postfix": ") ",
     "delete_cmd_prefix": "rm(",
     "library": "var_list.r",
     "varRefreshCmd": "cat(var_dic_list()) "
    }
   },
   "types_to_exclude": [
    "module",
    "function",
    "builtin_function_or_method",
    "instance",
    "_Feature"
   ],
   "window_display": false
  }
 },
 "nbformat": 4,
 "nbformat_minor": 4
}
