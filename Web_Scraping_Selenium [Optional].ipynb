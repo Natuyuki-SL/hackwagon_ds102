{
 "cells": [
  {
   "cell_type": "markdown",
   "metadata": {
    "id": "wu5_phKi4unP"
   },
   "source": [
    "# Web Scraping - Selenium\n",
    "\n",
    "Selenium is a framework which is designed to automate test for web applications. You can then write a python script to control the browser interactions automatically such as link clicks and form submissions. However, in addition to all this selenium comes in handy when we want to scrape data from javascript generated content from a webpage.\n",
    "\n",
    "Let's start with something simple!"
   ]
  },
  {
   "cell_type": "code",
   "execution_count": 3,
   "metadata": {},
   "outputs": [],
   "source": [
    "# Install the library first. Only need to run the installation once\n",
    "#!pip install selenium"
   ]
  },
  {
   "cell_type": "code",
   "execution_count": 4,
   "metadata": {},
   "outputs": [],
   "source": [
    "#!pip install webdriver_manager"
   ]
  },
  {
   "cell_type": "code",
   "execution_count": 5,
   "metadata": {
    "id": "a1nYA3A631M-"
   },
   "outputs": [],
   "source": [
    "# Import the required library and locate the chromedriver\n",
    "# If you are using other browsers, please download the driver for the same and put the path below\n",
    "# Download Link: https://chromedriver.chromium.org/downloads\n",
    "\n",
    "from selenium import webdriver\n",
    "from selenium.webdriver.common.keys import Keys\n",
    "from webdriver_manager.chrome import ChromeDriverManager"
   ]
  },
  {
   "cell_type": "markdown",
   "metadata": {
    "id": "0qpqHGtOdH9R"
   },
   "source": [
    "## What are we going to do here?\n",
    "\n",
    "Step 1:- **Open** Chrome browser and **Go** to a URL <br/>\n",
    "Step 2:- **Typing** in the space provided<br/>\n",
    "Step 3:- **Press Enter** button<br/>\n",
    "Step 4:- **Make sure** the text is correct<br/>\n",
    "Step 5:- **Get** the search results<br/>\n",
    "Step 6:- **Print** the text of the third element of the list<br/>\n",
    "Step 5:- **Close** browser<br/>"
   ]
  },
  {
   "cell_type": "code",
   "execution_count": 6,
   "metadata": {
    "scrolled": false
   },
   "outputs": [
    {
     "name": "stderr",
     "output_type": "stream",
     "text": [
      "[WDM] - Downloading: 100%|█████████████████| 8.04M/8.04M [00:00<00:00, 15.2MB/s]\n",
      "/var/folders/q6/7xrcskkd5f1dcz0ynw4q2ggw0000gp/T/ipykernel_3551/2137781013.py:3: DeprecationWarning: executable_path has been deprecated, please pass in a Service object\n",
      "  driver = webdriver.Chrome(ChromeDriverManager().install())\n"
     ]
    }
   ],
   "source": [
    "# Step 1\n",
    "# driver = webdriver.Chrome(r'chromedriver98.exe') # Open Chrome Browser\n",
    "driver = webdriver.Chrome(ChromeDriverManager().install())\n",
    "\n",
    "driver.maximize_window() # Maximizing the window\n",
    "driver.get(\"http://www.python.org\") # Go to a URL\n",
    "# assert \"Python\" in driver.title # Make sure we are in a correct website\n"
   ]
  },
  {
   "cell_type": "code",
   "execution_count": 7,
   "metadata": {},
   "outputs": [],
   "source": [
    "# Step 2\n",
    "elem = driver.find_element(by='name', value=\"q\")\n",
    " # Get search bar element\n",
    "\n",
    "# alternatively, we can find element by xpath:\n",
    "# elem = driver.find_element_by_xpath('/html/body/div/header/div/div[1]/div/form/fieldset/input') # Copy the full xpath when inspecting the webpage element\n",
    "\n",
    "elem.clear() # Clear any existing text\n",
    "elem.send_keys(\"web scraping in Python\") # Type \"Applications for Python\" in the search bar"
   ]
  },
  {
   "cell_type": "code",
   "execution_count": 8,
   "metadata": {},
   "outputs": [],
   "source": [
    "# Step 3\n",
    "elem.send_keys(Keys.RETURN) # Press Enter\n",
    "\n"
   ]
  },
  {
   "cell_type": "code",
   "execution_count": 9,
   "metadata": {},
   "outputs": [],
   "source": [
    "# Step 4\n",
    "ul = driver.find_element(by='class name', value='list-recent-events.menu') # Need to replace 'space' with '.'\n",
    "li_s = ul.find_elements(by='tag name', value='li')"
   ]
  },
  {
   "cell_type": "code",
   "execution_count": 10,
   "metadata": {},
   "outputs": [
    {
     "name": "stdout",
     "output_type": "stream",
     "text": [
      "Python Humor\n",
      "...ings found wafting gently in the comp.lang.python newsgroup (a.k.a. the python-list mailing list). See also Andrew Kuchling's collection of Python quotations, containing in a condensed form some sterling examples of the wit and wisdom encountered in the Python world. Contents The Zen of Python Fundamental... Cute Wabbit Shooting Yourself in the Foot Legal Issues Python vs Tcl vs Perl5 Python Object Oriented Programming Seminar PSA Budget The Origin of the Great Timbot Conspiracy Theory The Oth...\n"
     ]
    }
   ],
   "source": [
    "# Step 6\n",
    "print(li_s[2].text)"
   ]
  },
  {
   "cell_type": "code",
   "execution_count": 11,
   "metadata": {
    "scrolled": true
   },
   "outputs": [],
   "source": [
    "# Step 5\n",
    "driver.close()"
   ]
  },
  {
   "cell_type": "markdown",
   "metadata": {
    "id": "gAD2MU1TgKrt"
   },
   "source": [
    "## Exercise\n",
    "1. Go to http://www.python.org\n",
    "2. Click on the News tab.\n",
    "3. Get the list of recent posts element. Hint: find_element_by_xpath, followed by find_elements_by_tag_name('li')\n",
    "4. Loop through each 'li' tag element and print the text\n",
    "5. Take the screenshot of the recent posts element\n",
    "6. Close the webdriver\n",
    "\n",
    "*Try it without the help of the solution*"
   ]
  },
  {
   "cell_type": "code",
   "execution_count": 26,
   "metadata": {},
   "outputs": [
    {
     "name": "stderr",
     "output_type": "stream",
     "text": [
      "C:\\Users\\Pranav Dubey\\AppData\\Local\\Temp\\ipykernel_20260\\3425610438.py:2: DeprecationWarning: executable_path has been deprecated, please pass in a Service object\n",
      "  driver = webdriver.Chrome(ChromeDriverManager().install())\n"
     ]
    }
   ],
   "source": [
    "# 1\n",
    "driver = webdriver.Chrome(ChromeDriverManager().install())\n",
    "driver.maximize_window() # Maximizing the window\n",
    "driver.get(\"http://www.python.org\") # Go to a URL\n",
    "assert \"Python\" in driver.title # Make sure we are in a correct website"
   ]
  },
  {
   "cell_type": "code",
   "execution_count": 31,
   "metadata": {},
   "outputs": [],
   "source": [
    "# 2\n",
    "elem = driver.find_element(by='xpath', value='/html/body/div/header/div/nav/ul/li[6]/a') # Copy the full xpath when inspecting the webpage element\n",
    "\n",
    "elem.click() "
   ]
  },
  {
   "cell_type": "code",
   "execution_count": 32,
   "metadata": {},
   "outputs": [],
   "source": [
    "# 3\n",
    "ul = driver.find_element(by='class name', value='list-recent-posts.menu')\n",
    "\n",
    "li_s = ul.find_elements(by='tag name', value='li')"
   ]
  },
  {
   "cell_type": "code",
   "execution_count": 33,
   "metadata": {},
   "outputs": [
    {
     "name": "stdout",
     "output_type": "stream",
     "text": [
      "Python 3.10.6 is available\n",
      "Aug. 2, 2022\n",
      "\n",
      "Python 3.11.0b5 is now available\n",
      "July 26, 2022\n",
      "\n",
      "Distinguished Service Award Granted to Naomi Ceder\n",
      "July 21, 2022\n",
      "\n",
      "Python 3.11.0b4 is now available\n",
      "July 11, 2022\n",
      "\n",
      "Announcing Python Software Foundation Fellow Members for Q2 2022! 🎉\n",
      "July 6, 2022\n",
      "\n"
     ]
    }
   ],
   "source": [
    "# 4\n",
    "for li in li_s:\n",
    "    print(li.text)\n",
    "    print()"
   ]
  },
  {
   "cell_type": "code",
   "execution_count": 34,
   "metadata": {},
   "outputs": [
    {
     "data": {
      "text/plain": [
       "True"
      ]
     },
     "execution_count": 34,
     "metadata": {},
     "output_type": "execute_result"
    }
   ],
   "source": [
    "# 5\n",
    "li_s[1].screenshot('Latest News in Python.png')"
   ]
  },
  {
   "cell_type": "code",
   "execution_count": 35,
   "metadata": {},
   "outputs": [],
   "source": [
    "# 6\n",
    "driver.close()"
   ]
  },
  {
   "cell_type": "markdown",
   "metadata": {},
   "source": [
    "### End of the workshop"
   ]
  }
 ],
 "metadata": {
  "colab": {
   "collapsed_sections": [],
   "name": "Web Scraping - Selenium.ipynb",
   "provenance": []
  },
  "kernelspec": {
   "display_name": "Python 3 (ipykernel)",
   "language": "python",
   "name": "python3"
  },
  "language_info": {
   "codemirror_mode": {
    "name": "ipython",
    "version": 3
   },
   "file_extension": ".py",
   "mimetype": "text/x-python",
   "name": "python",
   "nbconvert_exporter": "python",
   "pygments_lexer": "ipython3",
   "version": "3.9.12"
  }
 },
 "nbformat": 4,
 "nbformat_minor": 1
}
